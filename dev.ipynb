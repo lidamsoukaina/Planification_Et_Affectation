{
 "cells": [
  {
   "attachments": {},
   "cell_type": "markdown",
   "id": "209085bd",
   "metadata": {},
   "source": [
    "# Modules"
   ]
  },
  {
   "cell_type": "code",
   "execution_count": 1,
   "id": "6e390eb8",
   "metadata": {},
   "outputs": [],
   "source": [
    "#!pip3 install ipympl"
   ]
  },
  {
   "cell_type": "code",
   "execution_count": 2,
   "id": "dbc23d43",
   "metadata": {},
   "outputs": [],
   "source": [
    "import gurobipy\n",
    "from gurobipy import *\n",
    "\n",
    "from random import randint\n",
    "import pandas as pd\n",
    "import numpy as np\n",
    "import json\n",
    "\n",
    "# for creating a responsive plot\n",
    "%matplotlib widget\n",
    "\n",
    "from mpl_toolkits.mplot3d import Axes3D\n",
    "import matplotlib.pyplot as plt"
   ]
  },
  {
   "attachments": {},
   "cell_type": "markdown",
   "id": "2096cdbc",
   "metadata": {},
   "source": [
    "# Input Data"
   ]
  },
  {
   "cell_type": "code",
   "execution_count": 5,
   "id": "52e9dc34",
   "metadata": {},
   "outputs": [],
   "source": [
    "# Opening JSON file\n",
    "instance_name = \"./instances/toy_instance\"\n",
    "f = open(instance_name+\".json\")\n",
    "# returns JSON object as a dictionary\n",
    "data = json.load(f)"
   ]
  },
  {
   "cell_type": "code",
   "execution_count": 6,
   "id": "88bd5347",
   "metadata": {},
   "outputs": [],
   "source": [
    "## Problem's parameters :\n",
    "\n",
    "I = len(data[\"staff\"]) # Number of individuals\n",
    "J = data[\"horizon\"] # Horizon\n",
    "P = len(data[\"jobs\"]) # Number of projects\n",
    "Q = len(data[\"qualifications\"]) # Number of qualifications"
   ]
  },
  {
   "cell_type": "code",
   "execution_count": 7,
   "id": "7c4e5e4f",
   "metadata": {},
   "outputs": [
    {
     "data": {
      "text/html": [
       "<div>\n",
       "<style scoped>\n",
       "    .dataframe tbody tr th:only-of-type {\n",
       "        vertical-align: middle;\n",
       "    }\n",
       "\n",
       "    .dataframe tbody tr th {\n",
       "        vertical-align: top;\n",
       "    }\n",
       "\n",
       "    .dataframe thead th {\n",
       "        text-align: right;\n",
       "    }\n",
       "</style>\n",
       "<table border=\"1\" class=\"dataframe\">\n",
       "  <thead>\n",
       "    <tr style=\"text-align: right;\">\n",
       "      <th></th>\n",
       "      <th>A</th>\n",
       "      <th>B</th>\n",
       "      <th>C</th>\n",
       "    </tr>\n",
       "  </thead>\n",
       "  <tbody>\n",
       "    <tr>\n",
       "      <th>Job1</th>\n",
       "      <td>1</td>\n",
       "      <td>1</td>\n",
       "      <td>1</td>\n",
       "    </tr>\n",
       "    <tr>\n",
       "      <th>Job2</th>\n",
       "      <td>1</td>\n",
       "      <td>2</td>\n",
       "      <td>0</td>\n",
       "    </tr>\n",
       "    <tr>\n",
       "      <th>Job3</th>\n",
       "      <td>1</td>\n",
       "      <td>0</td>\n",
       "      <td>2</td>\n",
       "    </tr>\n",
       "    <tr>\n",
       "      <th>Job4</th>\n",
       "      <td>0</td>\n",
       "      <td>2</td>\n",
       "      <td>1</td>\n",
       "    </tr>\n",
       "    <tr>\n",
       "      <th>Job5</th>\n",
       "      <td>0</td>\n",
       "      <td>0</td>\n",
       "      <td>2</td>\n",
       "    </tr>\n",
       "  </tbody>\n",
       "</table>\n",
       "</div>"
      ],
      "text/plain": [
       "      A  B  C\n",
       "Job1  1  1  1\n",
       "Job2  1  2  0\n",
       "Job3  1  0  2\n",
       "Job4  0  2  1\n",
       "Job5  0  0  2"
      ]
     },
     "execution_count": 7,
     "metadata": {},
     "output_type": "execute_result"
    }
   ],
   "source": [
    "# Projects\n",
    "projects = pd.DataFrame()\n",
    "for job in data[\"jobs\"]:\n",
    "    projects = pd.concat([projects,pd.DataFrame(job['working_days_per_qualification'], index=[job[\"name\"]])],axis=0)\n",
    "projects = projects.fillna(0)\n",
    "projects = projects.astype('Int64')\n",
    "projects\n"
   ]
  },
  {
   "cell_type": "code",
   "execution_count": 8,
   "id": "8b957493",
   "metadata": {},
   "outputs": [
    {
     "data": {
      "text/html": [
       "<div>\n",
       "<style scoped>\n",
       "    .dataframe tbody tr th:only-of-type {\n",
       "        vertical-align: middle;\n",
       "    }\n",
       "\n",
       "    .dataframe tbody tr th {\n",
       "        vertical-align: top;\n",
       "    }\n",
       "\n",
       "    .dataframe thead th {\n",
       "        text-align: right;\n",
       "    }\n",
       "</style>\n",
       "<table border=\"1\" class=\"dataframe\">\n",
       "  <thead>\n",
       "    <tr style=\"text-align: right;\">\n",
       "      <th></th>\n",
       "      <th>name</th>\n",
       "      <th>qualifications</th>\n",
       "      <th>vacations</th>\n",
       "    </tr>\n",
       "  </thead>\n",
       "  <tbody>\n",
       "    <tr>\n",
       "      <th>0</th>\n",
       "      <td>Olivia</td>\n",
       "      <td>[A, B, C]</td>\n",
       "      <td>[]</td>\n",
       "    </tr>\n",
       "    <tr>\n",
       "      <th>1</th>\n",
       "      <td>Liam</td>\n",
       "      <td>[A, B]</td>\n",
       "      <td>[1]</td>\n",
       "    </tr>\n",
       "    <tr>\n",
       "      <th>2</th>\n",
       "      <td>Emma</td>\n",
       "      <td>[C]</td>\n",
       "      <td>[2]</td>\n",
       "    </tr>\n",
       "  </tbody>\n",
       "</table>\n",
       "</div>"
      ],
      "text/plain": [
       "     name qualifications vacations\n",
       "0  Olivia      [A, B, C]        []\n",
       "1    Liam         [A, B]       [1]\n",
       "2    Emma            [C]       [2]"
      ]
     },
     "execution_count": 8,
     "metadata": {},
     "output_type": "execute_result"
    }
   ],
   "source": [
    "# Personnel\n",
    "personnel = pd.DataFrame(data['staff'])\n",
    "personnel"
   ]
  },
  {
   "attachments": {},
   "cell_type": "markdown",
   "id": "bf63652f",
   "metadata": {},
   "source": [
    "# Transform Data"
   ]
  },
  {
   "cell_type": "code",
   "execution_count": 9,
   "id": "9fb1dd84",
   "metadata": {
    "scrolled": false
   },
   "outputs": [],
   "source": [
    "## def functions from json\n",
    "def vacations(collaborator, day):\n",
    "    if day in collaborator[\"vacations\"]:\n",
    "        return 1\n",
    "    else:\n",
    "        return 0\n",
    "def has_qualification(collaborator,qualification):\n",
    "    # numbered collaborator\n",
    "    if data[\"qualifications\"][qualification] in data[\"staff\"][collaborator][\"qualifications\"]:\n",
    "        return 1\n",
    "    else:\n",
    "        return 0\n",
    "\n",
    "def project_necessary_qualifications(project,qualification):\n",
    "    if data[\"qualifications\"][qualification] in data[\"jobs\"][project][\"working_days_per_qualification\"].keys():\n",
    "        return data[\"jobs\"][project][\"working_days_per_qualification\"][data[\"qualifications\"][qualification]]\n",
    "    else:\n",
    "        return 0\n",
    "def gain(project):\n",
    "    return project[\"gain\"]\n",
    "\n",
    "def date_rendu(project):\n",
    "    return project[\"due_date\"]\n",
    "\n",
    "def penalite(project):\n",
    "    return project[\"daily_penalty\"]\n",
    "\n",
    "date_delivery = {}\n",
    "for p in range(P):\n",
    "    date_delivery[p] = data[\"jobs\"][p][\"due_date\"]"
   ]
  },
  {
   "attachments": {},
   "cell_type": "markdown",
   "id": "36c9405d",
   "metadata": {},
   "source": [
    "# Model"
   ]
  },
  {
   "cell_type": "code",
   "execution_count": 10,
   "id": "ce45115f",
   "metadata": {},
   "outputs": [
    {
     "name": "stdout",
     "output_type": "stream",
     "text": [
      "Set parameter Username\n",
      "Academic license - for non-commercial use only - expires 2023-12-29\n"
     ]
    }
   ],
   "source": [
    "# Create a new model\n",
    "m = Model()"
   ]
  },
  {
   "attachments": {},
   "cell_type": "markdown",
   "id": "cd7e88c9",
   "metadata": {},
   "source": [
    "# Decision Variables"
   ]
  },
  {
   "cell_type": "code",
   "execution_count": 11,
   "id": "7d2d5537",
   "metadata": {},
   "outputs": [],
   "source": [
    "M = 10000\n",
    "## Create variable rea (realisation of project)\n",
    "X = {}\n",
    "rea= {}\n",
    "rea_project={}\n",
    "lateness = {}\n",
    "b = {}\n",
    "b2 = {}\n",
    "shift_change={}\n",
    "project_began = {}\n",
    "\n",
    "for p in range(P):\n",
    "    lateness[p]=m.addVar(vtype=GRB.INTEGER,name=\"lateness[\"+str(p)+\"]\")\n",
    "    b[p]=m.addVar(vtype=GRB.BINARY,name=\"binary_decision[\"+str(p)+\"]\")\n",
    "\n",
    "    for j in range(J):\n",
    "        rea_project[p,j]=m.addVar(vtype=GRB.BINARY,name=\"rea_project[\"+str(p)+\",\"+str(j)+\"]\")\n",
    "        project_began[p,j]=m.addVar(vtype=GRB.BINARY,name=\"project_began[\"+str(p)+\",\"+str(j)+\"]\")\n",
    "        \n",
    "        for q in range(Q):\n",
    "            rea[p,q,j]=m.addVar(vtype=GRB.BINARY,name=\"rea[\"+str(p)+\",\"+str(q)+\",\"+str(j)+\"]\")\n",
    "\n",
    "            for i in range(I):\n",
    "                X[i,j,p,q] = m.addVar(vtype=GRB.BINARY,name=\"X[\"+str(i)+\",\"+str(j)+\",\"+str(p)+\",\"+str(q)+\"]\")\n",
    "                b2[i,j,p,q] = m.addVar(vtype=GRB.BINARY,name=\"binary decision 2[\"+str(i)+\",\"+str(j)+\",\"+str(p)+\",\"+str(q)+\"]\")\n",
    "                shift_change[i,j,p,q] = m.addVar(vtype=GRB.BINARY,name=\"Shift Change [\"+str(i)+\",\"+str(j)+\",\"+str(p)+\",\"+str(q)+\"]\")"
   ]
  },
  {
   "attachments": {},
   "cell_type": "markdown",
   "id": "f570e532",
   "metadata": {},
   "source": [
    "## Constraints"
   ]
  },
  {
   "cell_type": "code",
   "execution_count": 12,
   "id": "fae066d7",
   "metadata": {},
   "outputs": [],
   "source": [
    "# Constraints\n",
    "for j in range(J):\n",
    "    for i in range(I):\n",
    "        # Constraint for daily personnel allocation : only one project per person\n",
    "        m.addConstr(quicksum(X[i,j,p,q] for p in range(P) for q in range(Q)) <= 1)\n",
    "        for p in range(P):\n",
    "            for q in range(Q):\n",
    "                # Constraint for personnel qualifications : only affect a qualified person to a given task.\n",
    "                m.addConstr(X[i,j,p,q] <= has_qualification(i,q))\n",
    "                # Constraint for vacation : do not work on vacations\n",
    "                m.addConstr(vacations(data[\"staff\"][i],j) + X[i,j,p,q] <= 1)\n",
    "\n",
    "for j in range(J-1):\n",
    "    for i in range(I):\n",
    "        for p in range(P):\n",
    "            for q in range(Q):                                \n",
    "                # constraint for max X_i,j+1,p,q - X_i,j,p,q\n",
    "                m.addConstr(shift_change[i,j,p,q]>=0)\n",
    "                m.addConstr(shift_change[i,j,p,q]>=X[i,j+1,p,q]-X[i,j,p,q])\n",
    "                m.addConstr(shift_change[i,j,p,q]<=M*(1-b2[i,j,p,q]))\n",
    "                m.addConstr(shift_change[i,j,p,q]<=X[i,j+1,p,q]-X[i,j,p,q]+M*b2[i,j,p,q])\n",
    "                \n",
    "for p in range(P):\n",
    "    for j in range(J):\n",
    "        # Constraint for project beginning \n",
    "        m.addConstr(quicksum(X[i,j_intermediate,p,q] for i in range(I) for q in range(Q) for j_intermediate in range(j+1)) <= M *project_began[p,j] - 1)\n",
    "        m.addConstr(quicksum(X[i,j_intermediate,p,q] for i in range(I) for q in range(Q) for j_intermediate in range(j+1)) >= M *(project_began[p,j] - 1))\n",
    "        \n",
    "        \n",
    "        # Constraint for project realisation\n",
    "        m.addConstr(quicksum(rea[p,q,j] for q in range(Q)) - Q <= M*rea_project[p,j]-1)\n",
    "        m.addConstr(quicksum(rea[p,q,j] for q in range(Q)) - Q >= M*(rea_project[p,j]-1))\n",
    "        for q in range(Q):\n",
    "            m.addConstr(quicksum(X[i,j_intermediate,p,q] for i in range(I) for j_intermediate in range(j+1)) - project_necessary_qualifications(p,q)  <= M*rea[p,q,j]-1)\n",
    "            m.addConstr(quicksum(X[i,j_intermediate,p,q] for i in range(I) for j_intermediate in range(j+1)) - project_necessary_qualifications(p,q)  >= M*(rea[p,q,j]-1))\n",
    "        \n",
    "    # Constraint for lateness in [0, Horizon - date_delivery]     \n",
    "    m.addConstr( lateness[p]>= J - quicksum(rea_project[p,j] for j in range(J))-date_delivery[p])\n",
    "    m.addConstr( lateness[p]<= J - quicksum(rea_project[p,j] for j in range(J))-date_delivery[p]+M*b[p])\n",
    "    m.addConstr( lateness[p]>= 0)\n",
    "    m.addConstr( lateness[p]<= M*(1-b[p]))"
   ]
  },
  {
   "attachments": {},
   "cell_type": "markdown",
   "id": "2e6c8dd4",
   "metadata": {},
   "source": [
    "## objective function"
   ]
  },
  {
   "cell_type": "code",
   "execution_count": 13,
   "id": "94b4b153",
   "metadata": {},
   "outputs": [],
   "source": [
    "## Set objective function\n",
    "\n",
    "## Fonction obj 1: Maximize profits\n",
    "profits = LinExpr()\n",
    "for p in range(P):\n",
    "    ### profits is the sum of the gain of each project minus the penalty for each day of delay \n",
    "    penal = penalite(data[\"jobs\"][p])*lateness[p]\n",
    "    profits += gain(data[\"jobs\"][p])*rea_project[p,J-1] - penal\n",
    "\n",
    "## Fonction obj 2: Minimize the number of shift changes\n",
    "changements_affectations = LinExpr()\n",
    "    \n",
    "changements_affectations += -quicksum(shift_change[i,j,p,q] for i in range(I) for j in range(J-1) for p in range(P) for q in range(Q))\n",
    "\n",
    "    \n",
    "## Fonction obj 3: Minimize the number of days of delay\n",
    "diff = LinExpr()\n",
    "\n",
    "for p in range( P):\n",
    "    for j in range(J):\n",
    "        diff += project_began[p,j] - rea_project[p,j]\n",
    "\n",
    "m.setObjectiveN(profits, 0,GRB.MAXIMIZE)\n",
    "m.setObjectiveN(changements_affectations,1, GRB.MAXIMIZE)\n",
    "m.setObjectiveN(-diff,2, GRB.MAXIMIZE)\n",
    "\n",
    "m.ModelSense = GRB.MAXIMIZE\n",
    "\n",
    "#Update Modèle\n",
    "m.update()"
   ]
  },
  {
   "attachments": {},
   "cell_type": "markdown",
   "id": "ef9ebee9",
   "metadata": {},
   "source": [
    "## Optimize the model"
   ]
  },
  {
   "cell_type": "code",
   "execution_count": 14,
   "id": "ab6169fe",
   "metadata": {
    "scrolled": false
   },
   "outputs": [
    {
     "name": "stdout",
     "output_type": "stream",
     "text": [
      "Gurobi Optimizer version 10.0.0 build v10.0.0rc2 (linux64)\n",
      "\n",
      "CPU model: Intel(R) Core(TM) i7-8565U CPU @ 1.80GHz, instruction set [SSE2|AVX|AVX2]\n",
      "Thread count: 4 physical cores, 8 logical processors, using up to 8 threads\n",
      "\n",
      "Optimize a model with 1455 rows, 810 columns and 5655 nonzeros\n",
      "Model fingerprint: 0x476566e5\n",
      "Variable types: 0 continuous, 810 integer (805 binary)\n",
      "Coefficient statistics:\n",
      "  Matrix range     [1e+00, 1e+04]\n",
      "  Objective range  [1e+00, 2e+01]\n",
      "  Bounds range     [1e+00, 1e+00]\n",
      "  RHS range        [1e+00, 1e+04]\n",
      "\n",
      "---------------------------------------------------------------------------\n",
      "Multi-objectives: starting optimization with 3 objectives (1 combined) ...\n",
      "---------------------------------------------------------------------------\n",
      "---------------------------------------------------------------------------\n",
      "\n",
      "Multi-objectives: optimize objective 1 (weighted) ...\n",
      "---------------------------------------------------------------------------\n",
      "\n",
      "Optimize a model with 1455 rows, 810 columns and 5655 nonzeros\n",
      "Model fingerprint: 0xafb99a0d\n",
      "Variable types: 0 continuous, 810 integer (805 binary)\n",
      "Coefficient statistics:\n",
      "  Matrix range     [1e+00, 1e+04]\n",
      "  Objective range  [1e+00, 2e+01]\n",
      "  Bounds range     [1e+00, 1e+00]\n",
      "  RHS range        [1e+00, 1e+04]\n",
      "Found heuristic solution: objective -46.0000000\n",
      "Presolve removed 1233 rows and 584 columns\n",
      "Presolve time: 0.01s\n",
      "Presolved: 222 rows, 226 columns, 1073 nonzeros\n",
      "Variable types: 0 continuous, 226 integer (223 binary)\n",
      "\n",
      "Root relaxation: objective 6.437500e+01, 297 iterations, 0.00 seconds (0.00 work units)\n",
      "\n",
      "    Nodes    |    Current Node    |     Objective Bounds      |     Work\n",
      " Expl Unexpl |  Obj  Depth IntInf | Incumbent    BestBd   Gap | It/Node Time\n",
      "\n",
      "     0     0   64.37500    0   86  -46.00000   64.37500   240%     -    0s\n",
      "H    0     0                      33.0000000   64.37500  95.1%     -    0s\n",
      "H    0     0                      34.0000000   64.37500  89.3%     -    0s\n",
      "H    0     0                      42.0000000   56.65000  34.9%     -    0s\n",
      "H    0     0                      43.0000000   56.65000  31.7%     -    0s\n",
      "     0     0   56.65000    0  106   43.00000   56.65000  31.7%     -    0s\n",
      "     0     0   56.50000    0  106   43.00000   56.50000  31.4%     -    0s\n",
      "H    0     0                      47.0000000   53.85476  14.6%     -    0s\n",
      "     0     0   53.85476    0  103   47.00000   53.85476  14.6%     -    0s\n",
      "     0     0   53.41714    0  121   47.00000   53.41714  13.7%     -    0s\n",
      "     0     0   53.39057    0  112   47.00000   53.39057  13.6%     -    0s\n",
      "     0     0   53.38362    0  126   47.00000   53.38362  13.6%     -    0s\n",
      "     0     0   53.37947    0  121   47.00000   53.37947  13.6%     -    0s\n",
      "     0     0   51.53586    0   98   47.00000   51.53586  9.65%     -    0s\n",
      "     0     0   51.21882    0  100   47.00000   51.21882  8.98%     -    0s\n",
      "     0     0   51.14973    0   93   47.00000   51.14973  8.83%     -    0s\n",
      "     0     0   51.14337    0   89   47.00000   51.14337  8.82%     -    0s\n",
      "     0     0   50.89444    0   91   47.00000   50.89444  8.29%     -    0s\n",
      "H    0     0                      49.0000000   50.89444  3.87%     -    0s\n",
      "H    0     0                      50.0000000   50.70000  1.40%     -    0s\n",
      "     0     0   50.70000    0   69   50.00000   50.70000  1.40%     -    0s\n",
      "\n",
      "Cutting planes:\n",
      "  Gomory: 8\n",
      "  Cover: 22\n",
      "  Implied bound: 6\n",
      "  Clique: 8\n",
      "  MIR: 17\n",
      "  Zero half: 18\n",
      "  RLT: 41\n",
      "\n",
      "Explored 1 nodes (1123 simplex iterations) in 0.21 seconds (0.07 work units)\n",
      "Thread count was 8 (of 8 available processors)\n",
      "\n",
      "Solution count 8: 50 49 47 ... -46\n",
      "\n",
      "Optimal solution found (tolerance 1.00e-04)\n",
      "Best objective 5.000000000000e+01, best bound 5.000000000000e+01, gap 0.0000%\n",
      "\n",
      "---------------------------------------------------------------------------\n",
      "Multi-objectives: solved in 0.22 seconds (0.07 work units), solution count 8\n",
      "\n"
     ]
    }
   ],
   "source": [
    "m.optimize()"
   ]
  },
  {
   "attachments": {},
   "cell_type": "markdown",
   "id": "c8cb4d7d",
   "metadata": {},
   "source": [
    "# Mdel Status"
   ]
  },
  {
   "cell_type": "code",
   "execution_count": 15,
   "id": "3aaed21c",
   "metadata": {},
   "outputs": [
    {
     "name": "stdout",
     "output_type": "stream",
     "text": [
      "Model status is: 2\n",
      "The Problem has a Solution\n"
     ]
    }
   ],
   "source": [
    "print(\"Model status is: \" + str(m.status))\n",
    "if m.status == GRB.INFEASIBLE:\n",
    "    print(\"\\n The Problem has NO Solution!!!\")\n",
    "elif m.status == GRB.UNBOUNDED:\n",
    "    print(\"\\n The Problem is Bounded!!!\")\n",
    "else:\n",
    "    print('The Problem has a Solution')"
   ]
  },
  {
   "attachments": {},
   "cell_type": "markdown",
   "id": "68698e62",
   "metadata": {},
   "source": [
    "# Solutions visualisation"
   ]
  },
  {
   "cell_type": "code",
   "execution_count": 16,
   "id": "7dc97ed2",
   "metadata": {},
   "outputs": [
    {
     "name": "stdout",
     "output_type": "stream",
     "text": [
      "The model has  8  solution(s)\n"
     ]
    }
   ],
   "source": [
    "data_sol = json.loads(m.getJSONSolution())\n",
    "print(\"The model has \", data_sol[\"SolutionInfo\"][\"SolCount\"], \" solution(s)\")"
   ]
  },
  {
   "cell_type": "code",
   "execution_count": 17,
   "id": "61098759",
   "metadata": {},
   "outputs": [
    {
     "data": {
      "application/vnd.jupyter.widget-view+json": {
       "model_id": "ba0fe33d794846b3ad2e06e7c19c48c6",
       "version_major": 2,
       "version_minor": 0
      },
      "image/png": "[encoded data removed]",
      "text/html": [
       "\n",
       "            <div style=\"display: inline-block;\">\n",
       "                <div class=\"jupyter-widgets widget-label\" style=\"text-align: center;\">\n",
       "                    Figure\n",
       "                </div>\n",
       "                <img src='data:image/png;base64,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' width=640.0/>\n",
       "            </div>\n",
       "        "
      ],
      "text/plain": [
       "Canvas(toolbar=Toolbar(toolitems=[('Home', 'Reset original view', 'home', 'home'), ('Back', 'Back to previous …"
      ]
     },
     "metadata": {},
     "output_type": "display_data"
    }
   ],
   "source": [
    "# Plotting the solutions with regards to the objective functions\n",
    "fig = plt.figure()\n",
    "ax = fig.add_subplot(111, projection='3d')\n",
    "\n",
    "x =[row[0] for row in data_sol[\"SolutionInfo\"][\"PoolObjVal\"]]\n",
    "y =[row[1] for row in data_sol[\"SolutionInfo\"][\"PoolObjVal\"]]\n",
    "z =[row[2] for row in data_sol[\"SolutionInfo\"][\"PoolObjVal\"]]\n",
    "ax.scatter(x, y, z)\n",
    "\n",
    "ax.set_xlabel('Objectif Fonction 1')\n",
    "ax.set_ylabel('Objectif Fonction 2')\n",
    "ax.set_zlabel('Objectif Fonction 3')\n",
    "\n",
    "plt.show()"
   ]
  },
  {
   "cell_type": "code",
   "execution_count": 18,
   "id": "e56f26df",
   "metadata": {},
   "outputs": [],
   "source": [
    "# Planning\n",
    "def get_planning():\n",
    "    # Dataframe with affectations\n",
    "    planning = pd.DataFrame(np.nan, columns = [\"day_\"+str(i) for i in range(J)],index = [i for i in range(I)])\n",
    "    for i in range(I):\n",
    "        for j in range(J):\n",
    "            for p in range(P):\n",
    "                for q in range(Q):\n",
    "                        if X[i,j,p,q].x > 0:\n",
    "                            planning.iloc[i,j] = q\n",
    "    ## colors cells with regard to project\n",
    "    color_pro = {}\n",
    "    for i in range(P):\n",
    "        color_pro[i] = '#%06X' % randint(0, 0xFFFFFF)\n",
    "\n",
    "    df_color = pd.DataFrame(np.nan, columns = [\"day_\"+str(i) for i in range(J)],index = [i for i in range(I)])\n",
    "    for i in range(I):\n",
    "        for j in range(J):\n",
    "            for p in range(P):\n",
    "                for q in range(Q):\n",
    "                        if X[i,j,p,q].x > 0:\n",
    "                            df_color.iloc[i,j] = color_pro[p]\n",
    "    df_color = df_color.applymap(lambda x: 'background-color: {}'.format(x))\n",
    "    def highlight_1(x):\n",
    "        return pd.DataFrame(df_color.values, columns=x.columns)\n",
    "    planning = planning.astype('Int64')\n",
    "    planning = planning.style.apply(highlight_1,axis=None)\n",
    "    # Mapping colors to projects\n",
    "    proj_col = pd.DataFrame()\n",
    "    i=0\n",
    "    for project in projects.index:\n",
    "        proj_col = pd.concat([proj_col,pd.DataFrame({'project':project,'color': 'background-color: ' + color_pro[i]},index=[i])], axis=0)\n",
    "        i+=1\n",
    "    def highlight_2(x):\n",
    "        return x\n",
    "    proj_col = proj_col.style.apply(highlight_2,axis=None, subset=['color'])\n",
    "    return planning, proj_col\n",
    "\n",
    "planning, proj_col = get_planning()"
   ]
  },
  {
   "cell_type": "code",
   "execution_count": 19,
   "id": "10fcd60d",
   "metadata": {},
   "outputs": [
    {
     "data": {
      "text/html": [
       "<style type=\"text/css\">\n",
       "#T_9f6c8_row0_col0, #T_9f6c8_row1_col0, #T_9f6c8_row2_col0 {\n",
       "  background-color: #9BDE88;\n",
       "}\n",
       "#T_9f6c8_row0_col1, #T_9f6c8_row0_col2, #T_9f6c8_row2_col1 {\n",
       "  background-color: #31C827;\n",
       "}\n",
       "#T_9f6c8_row0_col3, #T_9f6c8_row1_col2, #T_9f6c8_row1_col3 {\n",
       "  background-color: #A547E0;\n",
       "}\n",
       "#T_9f6c8_row0_col4, #T_9f6c8_row1_col1, #T_9f6c8_row2_col2 {\n",
       "  background-color: nan;\n",
       "}\n",
       "#T_9f6c8_row1_col4, #T_9f6c8_row2_col3, #T_9f6c8_row2_col4 {\n",
       "  background-color: #1C3DB2;\n",
       "}\n",
       "</style>\n",
       "<table id=\"T_9f6c8\">\n",
       "  <thead>\n",
       "    <tr>\n",
       "      <th class=\"blank level0\" >&nbsp;</th>\n",
       "      <th id=\"T_9f6c8_level0_col0\" class=\"col_heading level0 col0\" >day_0</th>\n",
       "      <th id=\"T_9f6c8_level0_col1\" class=\"col_heading level0 col1\" >day_1</th>\n",
       "      <th id=\"T_9f6c8_level0_col2\" class=\"col_heading level0 col2\" >day_2</th>\n",
       "      <th id=\"T_9f6c8_level0_col3\" class=\"col_heading level0 col3\" >day_3</th>\n",
       "      <th id=\"T_9f6c8_level0_col4\" class=\"col_heading level0 col4\" >day_4</th>\n",
       "    </tr>\n",
       "  </thead>\n",
       "  <tbody>\n",
       "    <tr>\n",
       "      <th id=\"T_9f6c8_level0_row0\" class=\"row_heading level0 row0\" >0</th>\n",
       "      <td id=\"T_9f6c8_row0_col0\" class=\"data row0 col0\" >0</td>\n",
       "      <td id=\"T_9f6c8_row0_col1\" class=\"data row0 col1\" >1</td>\n",
       "      <td id=\"T_9f6c8_row0_col2\" class=\"data row0 col2\" >1</td>\n",
       "      <td id=\"T_9f6c8_row0_col3\" class=\"data row0 col3\" >0</td>\n",
       "      <td id=\"T_9f6c8_row0_col4\" class=\"data row0 col4\" ><NA></td>\n",
       "    </tr>\n",
       "    <tr>\n",
       "      <th id=\"T_9f6c8_level0_row1\" class=\"row_heading level0 row1\" >1</th>\n",
       "      <td id=\"T_9f6c8_row1_col0\" class=\"data row1 col0\" >1</td>\n",
       "      <td id=\"T_9f6c8_row1_col1\" class=\"data row1 col1\" ><NA></td>\n",
       "      <td id=\"T_9f6c8_row1_col2\" class=\"data row1 col2\" >1</td>\n",
       "      <td id=\"T_9f6c8_row1_col3\" class=\"data row1 col3\" >1</td>\n",
       "      <td id=\"T_9f6c8_row1_col4\" class=\"data row1 col4\" >0</td>\n",
       "    </tr>\n",
       "    <tr>\n",
       "      <th id=\"T_9f6c8_level0_row2\" class=\"row_heading level0 row2\" >2</th>\n",
       "      <td id=\"T_9f6c8_row2_col0\" class=\"data row2 col0\" >2</td>\n",
       "      <td id=\"T_9f6c8_row2_col1\" class=\"data row2 col1\" >2</td>\n",
       "      <td id=\"T_9f6c8_row2_col2\" class=\"data row2 col2\" ><NA></td>\n",
       "      <td id=\"T_9f6c8_row2_col3\" class=\"data row2 col3\" >2</td>\n",
       "      <td id=\"T_9f6c8_row2_col4\" class=\"data row2 col4\" >2</td>\n",
       "    </tr>\n",
       "  </tbody>\n",
       "</table>\n"
      ],
      "text/plain": [
       "<pandas.io.formats.style.Styler at 0x7f09f6491690>"
      ]
     },
     "execution_count": 19,
     "metadata": {},
     "output_type": "execute_result"
    }
   ],
   "source": [
    "planning"
   ]
  },
  {
   "cell_type": "code",
   "execution_count": 20,
   "id": "bf12605f",
   "metadata": {},
   "outputs": [
    {
     "data": {
      "text/html": [
       "<style type=\"text/css\">\n",
       "#T_1a79f_row0_col1 {\n",
       "  background-color: #9BDE88;\n",
       "}\n",
       "#T_1a79f_row1_col1 {\n",
       "  background-color: #A547E0;\n",
       "}\n",
       "#T_1a79f_row2_col1 {\n",
       "  background-color: #1C3DB2;\n",
       "}\n",
       "#T_1a79f_row3_col1 {\n",
       "  background-color: #31C827;\n",
       "}\n",
       "#T_1a79f_row4_col1 {\n",
       "  background-color: #37081B;\n",
       "}\n",
       "</style>\n",
       "<table id=\"T_1a79f\">\n",
       "  <thead>\n",
       "    <tr>\n",
       "      <th class=\"blank level0\" >&nbsp;</th>\n",
       "      <th id=\"T_1a79f_level0_col0\" class=\"col_heading level0 col0\" >project</th>\n",
       "      <th id=\"T_1a79f_level0_col1\" class=\"col_heading level0 col1\" >color</th>\n",
       "    </tr>\n",
       "  </thead>\n",
       "  <tbody>\n",
       "    <tr>\n",
       "      <th id=\"T_1a79f_level0_row0\" class=\"row_heading level0 row0\" >0</th>\n",
       "      <td id=\"T_1a79f_row0_col0\" class=\"data row0 col0\" >Job1</td>\n",
       "      <td id=\"T_1a79f_row0_col1\" class=\"data row0 col1\" >background-color: #9BDE88</td>\n",
       "    </tr>\n",
       "    <tr>\n",
       "      <th id=\"T_1a79f_level0_row1\" class=\"row_heading level0 row1\" >1</th>\n",
       "      <td id=\"T_1a79f_row1_col0\" class=\"data row1 col0\" >Job2</td>\n",
       "      <td id=\"T_1a79f_row1_col1\" class=\"data row1 col1\" >background-color: #A547E0</td>\n",
       "    </tr>\n",
       "    <tr>\n",
       "      <th id=\"T_1a79f_level0_row2\" class=\"row_heading level0 row2\" >2</th>\n",
       "      <td id=\"T_1a79f_row2_col0\" class=\"data row2 col0\" >Job3</td>\n",
       "      <td id=\"T_1a79f_row2_col1\" class=\"data row2 col1\" >background-color: #1C3DB2</td>\n",
       "    </tr>\n",
       "    <tr>\n",
       "      <th id=\"T_1a79f_level0_row3\" class=\"row_heading level0 row3\" >3</th>\n",
       "      <td id=\"T_1a79f_row3_col0\" class=\"data row3 col0\" >Job4</td>\n",
       "      <td id=\"T_1a79f_row3_col1\" class=\"data row3 col1\" >background-color: #31C827</td>\n",
       "    </tr>\n",
       "    <tr>\n",
       "      <th id=\"T_1a79f_level0_row4\" class=\"row_heading level0 row4\" >4</th>\n",
       "      <td id=\"T_1a79f_row4_col0\" class=\"data row4 col0\" >Job5</td>\n",
       "      <td id=\"T_1a79f_row4_col1\" class=\"data row4 col1\" >background-color: #37081B</td>\n",
       "    </tr>\n",
       "  </tbody>\n",
       "</table>\n"
      ],
      "text/plain": [
       "<pandas.io.formats.style.Styler at 0x7f09f63a7fa0>"
      ]
     },
     "execution_count": 20,
     "metadata": {},
     "output_type": "execute_result"
    }
   ],
   "source": [
    "proj_col"
   ]
  },
  {
   "cell_type": "code",
   "execution_count": 21,
   "id": "5a46003c",
   "metadata": {},
   "outputs": [],
   "source": [
    "# select only non dominated solutions\n",
    "def get_non_dominated_solutions(m):\n",
    "    # get the solutions\n",
    "    data = json.loads(m.getJSONSolution())\n",
    "    # get the objective values\n",
    "    obj_val = data[\"SolutionInfo\"][\"PoolObjVal\"]\n",
    "    # get the number of solutions\n",
    "    nb_sol = data[\"SolutionInfo\"][\"SolCount\"]\n",
    "    # get the number of objectives\n",
    "    nb_obj = len(obj_val[0])\n",
    "    # get the index of the solutions that are non dominated\n",
    "    non_dominated_solutions = []\n",
    "    for i in range(nb_sol):\n",
    "        dominated = False\n",
    "        for j in range(nb_sol):\n",
    "            if i != j:\n",
    "                if all(obj_val[i][k] >= obj_val[j][k] for k in range(nb_obj)):\n",
    "                    dominated = True\n",
    "        if not dominated:\n",
    "            non_dominated_solutions.append(i)\n",
    "    return non_dominated_solutions\n"
   ]
  },
  {
   "cell_type": "code",
   "execution_count": 22,
   "id": "51a11bd4",
   "metadata": {},
   "outputs": [
    {
     "data": {
      "text/plain": [
       "[4, 6, 7]"
      ]
     },
     "execution_count": 22,
     "metadata": {},
     "output_type": "execute_result"
    }
   ],
   "source": [
    "get_non_dominated_solutions(m)"
   ]
  },
  {
   "cell_type": "markdown",
   "id": "bed903e5",
   "metadata": {},
   "source": [
    "### systèmes de choix/préférence"
   ]
  },
  {
   "cell_type": "code",
   "execution_count": 23,
   "id": "ee358f20",
   "metadata": {},
   "outputs": [],
   "source": [
    "dico = {}\n",
    "for count,value in enumerate(data_sol[\"SolutionInfo\"][\"PoolObjVal\"]):\n",
    "    dico[count]=value"
   ]
  },
  {
   "cell_type": "code",
   "execution_count": 25,
   "id": "bc01622b",
   "metadata": {},
   "outputs": [
    {
     "data": {
      "text/plain": [
       "{0: [70, -6, -14],\n",
       " 1: [70, -7, -14],\n",
       " 2: [70, -7, -16],\n",
       " 3: [67, -7, -17],\n",
       " 4: [67, -8, -17],\n",
       " 5: [56, -6, -16],\n",
       " 6: [56, -7, -16],\n",
       " 7: [-21, 0, -25]}"
      ]
     },
     "execution_count": 25,
     "metadata": {},
     "output_type": "execute_result"
    }
   ],
   "source": [
    "dico"
   ]
  },
  {
   "cell_type": "code",
   "execution_count": 24,
   "id": "f7990796",
   "metadata": {},
   "outputs": [],
   "source": [
    "def bordas_ranking(dico):\n",
    "    df = pd.DataFrame.from_dict(dico, orient='index', columns=['gain','shift_change','diff'])\n",
    "    df['default_rank'] = df['gain'].rank(method='min', ascending=False)\n",
    "    df['shift_change_rank'] = df['shift_change'].rank(method='min', ascending=False)\n",
    "    df['diff_rank'] = df['diff'].rank(method='min', ascending=False)\n",
    "    df['borda'] = df['default_rank'] + df['shift_change_rank'] + df['diff_rank']\n",
    "\n",
    "    df = df.sort_values(by = 'borda', ascending = True)\n",
    "    return df\n",
    "\n",
    "\n",
    "def somme_ponderee(dico,poids1=1,poids2=0.5,poids3=0.5):\n",
    "    for i in dico.keys():\n",
    "        dico[i] = dico[i],np.sum(dico[i]*np.array([poids1,poids2,poids3]))\n",
    "    return {k: v[0] for k, v in sorted(dico.items(), key=lambda item: item[0])}\n",
    "\n",
    "def fonction_seuil(dico,seuil,fonction_a_appeler):\n",
    "    max_gain = max(np.array(list(dico.values())).T[0])\n",
    "    list_to_keep = {}\n",
    "    for key, values in enumerate(dico.values()):\n",
    "        if values[0] >=max_gain*seuil:\n",
    "            list_to_keep[key] = dico[key]\n",
    "    print(list_to_keep)\n",
    "    return fonction_a_appeler(list_to_keep)"
   ]
  },
  {
   "cell_type": "code",
   "execution_count": 22,
   "id": "f4c4326d",
   "metadata": {
    "scrolled": true
   },
   "outputs": [
    {
     "name": "stdout",
     "output_type": "stream",
     "text": [
      "{0: [70, -6, -14], 1: [70, -7, -14], 2: [70, -7, -16]}\n"
     ]
    },
    {
     "data": {
      "text/plain": [
       "{0: [70, -6, -14], 1: [70, -7, -14], 2: [70, -7, -16]}"
      ]
     },
     "execution_count": 22,
     "metadata": {},
     "output_type": "execute_result"
    }
   ],
   "source": [
    "fonction_seuil(dico,0.99,somme_ponderee)"
   ]
  },
  {
   "cell_type": "markdown",
   "id": "4b16a6c2",
   "metadata": {},
   "source": [
    "### a few tests/trucs à enregistrer/pour afficher des résultats, etc ...."
   ]
  },
  {
   "cell_type": "code",
   "execution_count": 23,
   "id": "d7e9000b",
   "metadata": {},
   "outputs": [
    {
     "name": "stdout",
     "output_type": "stream",
     "text": [
      "Warning: variable name \"binary decision 2[0,0,0,0]\" has a space\n",
      "Warning: default variable names used to write solution file\n",
      "Warning: variable name \"binary decision 2[0,0,0,0]\" has a space\n",
      "Warning: default variable names used to write solution file\n",
      "Warning: variable name \"binary decision 2[0,0,0,0]\" has a space\n",
      "Warning: default variable names used to write solution file\n",
      "Warning: variable name \"binary decision 2[0,0,0,0]\" has a space\n",
      "Warning: default variable names used to write solution file\n",
      "Warning: variable name \"binary decision 2[0,0,0,0]\" has a space\n",
      "Warning: default variable names used to write solution file\n",
      "Warning: variable name \"binary decision 2[0,0,0,0]\" has a space\n",
      "Warning: default variable names used to write solution file\n",
      "Warning: variable name \"binary decision 2[0,0,0,0]\" has a space\n",
      "Warning: default variable names used to write solution file\n",
      "Warning: variable name \"binary decision 2[0,0,0,0]\" has a space\n",
      "Warning: default variable names used to write solution file\n"
     ]
    }
   ],
   "source": [
    "for i in range(m.SolCount):  \n",
    "    m.Params.SolutionNumber = i\n",
    "    m.write(\"solutions/\"+instance_name+\"/\"+f\"{i}.sol\")"
   ]
  },
  {
   "cell_type": "code",
   "execution_count": 24,
   "id": "cc5b421a",
   "metadata": {},
   "outputs": [
    {
     "name": "stdout",
     "output_type": "stream",
     "text": [
      "80\n"
     ]
    }
   ],
   "source": [
    "big_total = 0\n",
    "for p in range(P):\n",
    "    big_total += gain(data[\"jobs\"][p])\n",
    "    \n",
    "print(big_total)"
   ]
  },
  {
   "cell_type": "code",
   "execution_count": 25,
   "id": "5ed432e4",
   "metadata": {
    "scrolled": true
   },
   "outputs": [
    {
     "name": "stdout",
     "output_type": "stream",
     "text": [
      "Number of solutions found: 8\n",
      "0\n",
      "70.0\n",
      "1\n",
      "70.0\n",
      "2\n",
      "70.0\n",
      "3\n",
      "67.0\n",
      "4\n",
      "67.0\n",
      "5\n",
      "56.0\n",
      "6\n",
      "56.0\n",
      "7\n",
      "-21.0\n",
      "\n",
      "\n",
      "solution number 0\n",
      "[-0.0, 1.0, 1.0, 1.0, 1.0, 1.0, 1.0, -0.0, 0.0, 1.0, 0.0, 0.0, 0.0, 0.0, 1.0, -0.0, 1.0, -0.0, 1.0, 1.0, 0.0, 0.0, 0.0, 0.0, 1.0, -0.0, 1.0, -0.0, 0.0, 0.0, 0.0, 1.0, 1.0, 0.0, 1.0, 1.0, 1.0, 0.0, 1.0, -0.0, 0.0, 1.0, 0.0, 0.0, 0.0, 0.0, 1.0, -0.0, 1.0, -0.0, 0.0, 1.0, 0.0, 0.0, 0.0, 0.0, 1.0, -0.0, 1.0, -0.0, 0.0, 0.0, 0.0, 0.0, 1.0, 0.0, 1.0, 1.0, 1.0, 0.0, 1.0, -0.0, -0.0, 1.0, -0.0, 0.0, 0.0, 0.0, 1.0, 0.0, 1.0, 0.0, -0.0, 1.0, -0.0, 0.0, 0.0, 0.0, 1.0, -0.0, 1.0, -0.0, 0.0, 0.0, 0.0, 0.0, 1.0, 0.0, 1.0, 1.0, 1.0, -0.0, 1.0, 0.0, 0.0, 1.0, 0.0, 0.0, 0.0, 0.0, 1.0, -0.0, 1.0, -0.0, -0.0, 1.0, -0.0, 0.0, 0.0, 0.0, 1.0, 0.0, 1.0, -0.0, 0.0, 0.0, 0.0, 0.0, 1.0, -0.0, 1.0, 1.0, 1.0, -0.0, 0.0, 0.0, -0.0, 0.0, 0.0, 0.0, 0.0, 0.0, 1.0, -0.0, 0.0, 0.0, -0.0, 0.0, 0.0, 0.0, 0.0, 0.0, 1.0, 0.0, 0.0, 0.0, 0.0, 0.0, 0.0, 0.0, 0.0, 0.0, -0.0, 1.0, 0.0, 1.0, 0.0, -0.0, 1.0, -0.0, 0.0, 1.0, 0.0, 0.0, 0.0, 0.0, -0.0, 0.0, 1.0, 0.0, -0.0, 1.0, 0.0, 0.0, 0.0, 0.0, 1.0, 0.0, 1.0, 0.0, 0.0, 0.0, 0.0, 0.0, 1.0, 0.0, -0.0, 1.0, 0.0, -0.0, 1.0, 0.0, 0.0, 1.0, 0.0, 0.0, 0.0, 0.0, 0.0, -0.0, 1.0, 0.0, 0.0, 0.0, 1.0, 0.0, 0.0, 0.0, 1.0, 0.0, 1.0, 0.0, 0.0, 0.0, 0.0, 0.0, 1.0, 0.0, 0.0, 1.0, 0.0, -0.0, 0.0, 1.0, -0.0, 1.0, 0.0, 0.0, 0.0, 0.0, 0.0, 0.0, 1.0, -0.0, 1.0, 1.0, -0.0, 0.0, 0.0, 0.0, 1.0, 0.0, 1.0, 0.0, 0.0, 0.0, 0.0, 0.0, 1.0, 0.0, 1.0, 1.0, 1.0, 1.0, 1.0, -0.0, 0.0, 1.0, -0.0, 0.0, 0.0, 0.0, 1.0, 0.0, 1.0, -0.0, 1.0, 1.0, -0.0, 0.0, 0.0, 0.0, 1.0, 0.0, 1.0, 0.0, 0.0, 0.0, 0.0, 0.0, 1.0, 0.0, 1.0, 1.0, 1.0, -0.0, 0.0, 0.0, 0.0, 0.0, 0.0, 0.0, 0.0, 0.0, 1.0, 0.0, 0.0, 0.0, -0.0, 0.0, 0.0, 0.0, 0.0, 0.0, 1.0, 0.0, 0.0, 0.0, 0.0, 0.0, 0.0, 0.0, 0.0, 0.0, -0.0, 1.0, 0.0, 1.0, 0.0, -0.0, 1.0, 0.0, -0.0, 1.0, 0.0, 0.0, 0.0, 0.0, 1.0, 0.0, 1.0, 0.0, 0.0, 0.0, 0.0, 0.0, 0.0, 0.0, -0.0, -0.0, 1.0, 0.0, 0.0, 0.0, 0.0, 0.0, 1.0, 0.0, 0.0, 1.0, 0.0, -0.0, 1.0, 0.0, 0.0, 1.0, 0.0, 0.0, 0.0, 0.0, 1.0, 0.0, 1.0, 0.0, 0.0, 1.0, 0.0, 0.0, 0.0, 0.0, -0.0, -0.0, 1.0, 0.0, 0.0, 0.0, 0.0, 0.0, 1.0, 0.0, 0.0, 1.0, 0.0, -0.0, 1.0, -0.0, -0.0, 1.0, 0.0, 0.0, 0.0, 0.0, 1.0, 0.0, 1.0, 0.0, 0.0, 1.0, 0.0, 0.0, 0.0, 0.0, 0.0, 0.0, 1.0, -0.0, 0.0, 0.0, 0.0, 0.0, 0.0, 1.0, 0.0, 1.0, 0.0, -0.0, 1.0, -0.0, 0.0, 0.0, 1.0, 0.0, 0.0, 0.0, 1.0, 0.0, 1.0, 0.0, 0.0, 1.0, 0.0, 0.0, 0.0, 0.0, 0.0, -0.0, 1.0, 0.0, 0.0, 0.0, 0.0, 1.0, 1.0, -0.0, 1.0, 1.0, 1.0, 0.0, 0.0, 0.0, 1.0, 0.0, 0.0, 0.0, 0.0, 0.0, 1.0, 0.0, 0.0, 0.0, 0.0, 0.0, 0.0, 0.0, 0.0, 0.0, 1.0, 0.0, 0.0, 0.0, 0.0, 0.0, 0.0, 1.0, 0.0, 0.0, -0.0, 1.0, -0.0, 1.0, 1.0, 0.0, 1.0, 0.0, 0.0, 0.0, 0.0, 0.0, 0.0, 0.0, -0.0, -0.0, 0.0, 1.0, 0.0, 1.0, 0.0, 0.0, 0.0, 0.0, 0.0, -0.0, 1.0, 0.0, 0.0, 0.0, 0.0, -0.0, 0.0, 1.0, -0.0, 1.0, 1.0, 0.0, 1.0, 0.0, 0.0, 1.0, 0.0, 0.0, 0.0, 0.0, -0.0, 1.0, 1.0, -0.0, 0.0, 1.0, 0.0, 0.0, 0.0, 0.0, 1.0, -0.0, 1.0, 0.0, 0.0, 0.0, 0.0, 1.0, 1.0, 0.0, 1.0, 1.0, 1.0, 0.0, 1.0, 0.0, 0.0, 1.0, 0.0, 0.0, 0.0, 0.0, 1.0, 1.0, 1.0, -0.0, 0.0, 1.0, 0.0, 0.0, 0.0, 0.0, 1.0, 0.0, 1.0, 0.0, 0.0, 0.0, 0.0, 0.0, 1.0, 0.0, 1.0, 1.0, 1.0, 0.0, 1.0, 0.0, 0.0, 1.0, 0.0, 0.0, 0.0, 0.0, 1.0, 0.0, 1.0, -0.0, -0.0, 1.0, -0.0, 0.0, 0.0, 0.0, 1.0, 0.0, 1.0, -0.0, 0.0, 0.0, 0.0, 0.0, 1.0, -0.0, 1.0, 1.0, 1.0, 0.0, 0.0, 0.0, 0.0, 0.0, 0.0, 0.0, 0.0, 0.0, 1.0, 0.0, 0.0, 0.0, 0.0, 0.0, 0.0, 0.0, 0.0, 0.0, 1.0, 0.0, 0.0, 0.0, 0.0, 0.0, 0.0, -0.0, 0.0, 0.0, -0.0, 1.0, 0.0, 1.0, 1.0, 0.0, 1.0, 0.0, 0.0, 0.0, 0.0, 0.0, 0.0, 0.0, 1.0, 0.0, 1.0, 0.0, 0.0, 0.0, 0.0, 0.0, 0.0, 0.0, 0.0, -0.0, 1.0, -0.0, 0.0, 0.0, 0.0, -0.0, 1.0, 0.0, -0.0, 1.0, 1.0, 0.0, 1.0, 0.0, 0.0, 1.0, 0.0, 0.0, 0.0, 0.0, 1.0, 0.0, 1.0, 0.0, 0.0, 1.0, 0.0, 0.0, 0.0, 0.0, -0.0, -0.0, 1.0, -0.0, 0.0, 0.0, 0.0, 0.0, 1.0, 0.0, 0.0, 1.0, 1.0, 0.0, 1.0, 0.0, 0.0, 1.0, 0.0, 0.0, 0.0, 0.0, 1.0, 0.0, 1.0, 0.0, 0.0, 1.0, 0.0, 0.0, 0.0, 0.0, 0.0, 0.0, 1.0, -0.0, 0.0, 0.0, 0.0, 0.0, 1.0, 0.0, 0.0, 1.0, 1.0, 0.0, 1.0, 0.0, 0.0, 1.0, 0.0, 0.0, 0.0, 0.0, 1.0, 0.0, 1.0, 0.0, 0.0, 1.0, 0.0, 0.0, 0.0, 0.0, 0.0, 0.0, 1.0, -0.0, 0.0, 0.0, 0.0, -0.0, 1.0, -0.0, 0.0, 1.0, 1.0, 0.0, 0.0, 0.0, 0.0, 0.0, 0.0, 0.0, 0.0, 0.0, 1.0, 0.0, 0.0, 0.0, 0.0, 0.0, 0.0, 0.0, 0.0, 0.0, -0.0, 0.0, 0.0, 0.0, 0.0, 0.0, 0.0, -0.0, 0.0, 0.0]\n",
      "solution number 1\n",
      "[0.0, 1.0, 1.0, 1.0, 1.0, 0.0, 1.0, 0.0, 1.0, 1.0, 0.0, 0.0, 0.0, 0.0, 1.0, 1.0, 1.0, 0.0, 0.0, 1.0, 0.0, 0.0, 0.0, 0.0, 1.0, 0.0, 1.0, 0.0, 0.0, 0.0, 0.0, 1.0, 1.0, 0.0, 1.0, 1.0, 1.0, 0.0, 1.0, 0.0, 0.0, 1.0, 0.0, 0.0, 0.0, 0.0, 1.0, 0.0, 1.0, 0.0, 0.0, 1.0, 0.0, 0.0, 0.0, 0.0, 1.0, 0.0, 1.0, 0.0, 0.0, 0.0, 0.0, 0.0, 1.0, 0.0, 1.0, 1.0, 1.0, 0.0, 1.0, 0.0, 0.0, 1.0, 0.0, 0.0, 0.0, 0.0, 1.0, 0.0, 1.0, 0.0, 0.0, 1.0, 0.0, 0.0, 0.0, 0.0, 1.0, 0.0, 1.0, 0.0, 0.0, 0.0, 0.0, 0.0, 1.0, 0.0, 1.0, 1.0, 1.0, 0.0, 1.0, 0.0, 0.0, 1.0, 0.0, 0.0, 0.0, 0.0, 1.0, 0.0, 1.0, 0.0, 0.0, 1.0, 0.0, 0.0, 0.0, 0.0, 1.0, 0.0, 1.0, 0.0, 0.0, 0.0, 0.0, 0.0, 1.0, 0.0, 1.0, 1.0, 1.0, 0.0, 0.0, 0.0, 0.0, 0.0, 0.0, 0.0, 0.0, 0.0, 1.0, 0.0, 0.0, 0.0, 0.0, 0.0, 0.0, 0.0, 0.0, 0.0, 1.0, 0.0, 0.0, 0.0, 0.0, 0.0, 0.0, 0.0, 0.0, 0.0, 0.0, 1.0, 0.0, 1.0, 0.0, 0.0, 1.0, 0.0, 0.0, 1.0, 0.0, 0.0, 0.0, 0.0, 0.0, 0.0, 1.0, 0.0, 0.0, 1.0, 0.0, 0.0, 0.0, 0.0, 1.0, 0.0, 1.0, 0.0, 0.0, 0.0, 0.0, 0.0, 1.0, 0.0, 0.0, 1.0, 0.0, 0.0, 1.0, 0.0, 0.0, 1.0, 0.0, 0.0, 0.0, 0.0, 0.0, 0.0, 1.0, 0.0, 0.0, 0.0, 1.0, 0.0, 0.0, 0.0, 1.0, 0.0, 1.0, 0.0, 0.0, 0.0, 0.0, 0.0, 1.0, 0.0, 0.0, 1.0, 0.0, 0.0, 1.0, 0.0, 0.0, 0.0, 1.0, 0.0, 0.0, 0.0, 0.0, 0.0, 0.0, 1.0, 1.0, 1.0, 0.0, 0.0, 0.0, 0.0, 1.0, 0.0, 1.0, 0.0, 0.0, 0.0, 0.0, 0.0, 1.0, 0.0, 1.0, 1.0, 1.0, 0.0, 1.0, 0.0, 1.0, 1.0, 0.0, 0.0, 0.0, 0.0, 1.0, 1.0, 1.0, 0.0, 0.0, 1.0, 0.0, 0.0, 0.0, 0.0, 1.0, 0.0, 1.0, 0.0, 0.0, 0.0, 0.0, 0.0, 1.0, 0.0, 1.0, 1.0, 1.0, 0.0, 0.0, 0.0, 0.0, 0.0, 0.0, 0.0, 0.0, 0.0, 1.0, 1.0, 0.0, 0.0, 0.0, 0.0, 0.0, 0.0, 0.0, 0.0, 1.0, 0.0, 0.0, 0.0, 0.0, 0.0, 0.0, 0.0, 0.0, 0.0, 0.0, 1.0, 0.0, 1.0, 0.0, 0.0, 1.0, 0.0, 0.0, 1.0, 0.0, 0.0, 0.0, 0.0, 1.0, 0.0, 1.0, 0.0, 0.0, 0.0, 0.0, 0.0, 0.0, 0.0, 0.0, 0.0, 1.0, 0.0, 0.0, 0.0, 0.0, 0.0, 1.0, 0.0, 0.0, 1.0, 0.0, 0.0, 1.0, 0.0, 0.0, 1.0, 0.0, 0.0, 0.0, 0.0, 1.0, 0.0, 1.0, 0.0, 0.0, 1.0, 0.0, 0.0, 0.0, 0.0, 0.0, 0.0, 1.0, 0.0, 0.0, 0.0, 0.0, 0.0, 1.0, 0.0, 0.0, 1.0, 0.0, 0.0, 1.0, 0.0, 0.0, 1.0, 0.0, 0.0, 0.0, 0.0, 1.0, 0.0, 1.0, 0.0, 0.0, 1.0, 0.0, 0.0, 0.0, 0.0, 0.0, 0.0, 1.0, 0.0, 0.0, 0.0, 0.0, 0.0, 0.0, 1.0, 0.0, 1.0, 0.0, 0.0, 1.0, 0.0, 0.0, 0.0, 1.0, 0.0, 0.0, 0.0, 1.0, 0.0, 1.0, 0.0, 0.0, 1.0, 0.0, 0.0, 0.0, 0.0, 0.0, 0.0, 1.0, 0.0, 0.0, 0.0, 0.0, 1.0, 1.0, 0.0, 1.0, 1.0, 1.0, 0.0, 0.0, 0.0, 1.0, 0.0, 0.0, 0.0, 0.0, 0.0, 1.0, 0.0, 0.0, 0.0, 0.0, 0.0, 0.0, 0.0, 0.0, 0.0, 1.0, 0.0, 0.0, 0.0, 0.0, 0.0, 0.0, 1.0, 0.0, 0.0, 0.0, 1.0, 0.0, 1.0, 1.0, 0.0, 1.0, 0.0, 0.0, 0.0, 0.0, 0.0, 0.0, 0.0, 0.0, 0.0, 0.0, 1.0, 0.0, 1.0, 0.0, 0.0, 0.0, 0.0, 0.0, 0.0, 1.0, 0.0, 0.0, 0.0, 0.0, 0.0, 0.0, 1.0, 0.0, 1.0, 1.0, 0.0, 1.0, 0.0, 0.0, 1.0, 0.0, 0.0, 0.0, 0.0, 0.0, 1.0, 1.0, 0.0, 0.0, 1.0, 0.0, 0.0, 0.0, 0.0, 1.0, 0.0, 1.0, 0.0, 0.0, 0.0, 0.0, 1.0, 1.0, 0.0, 1.0, 1.0, 1.0, 0.0, 1.0, 0.0, 0.0, 1.0, 0.0, 0.0, 0.0, 0.0, 1.0, 1.0, 1.0, 0.0, 0.0, 1.0, 0.0, 0.0, 0.0, 0.0, 1.0, 0.0, 1.0, 0.0, 0.0, 0.0, 0.0, 0.0, 1.0, 0.0, 1.0, 1.0, 1.0, 0.0, 1.0, 0.0, 0.0, 1.0, 0.0, 0.0, 0.0, 0.0, 1.0, 0.0, 1.0, 0.0, 0.0, 1.0, 0.0, 0.0, 0.0, 0.0, 1.0, 0.0, 1.0, 0.0, 0.0, 0.0, 0.0, 0.0, 1.0, 0.0, 1.0, 1.0, 1.0, 0.0, 0.0, 0.0, 0.0, 0.0, 0.0, 0.0, 0.0, 0.0, 1.0, 0.0, 0.0, 0.0, 0.0, 0.0, 0.0, 0.0, 0.0, 0.0, 1.0, 0.0, 0.0, 0.0, 0.0, 0.0, 0.0, 0.0, 0.0, 0.0, -0.0, 1.0, 0.0, 1.0, 1.0, 0.0, 1.0, 0.0, 0.0, 0.0, 0.0, 0.0, 0.0, 0.0, 1.0, 0.0, 1.0, 0.0, 0.0, 0.0, 0.0, 0.0, 0.0, 0.0, 0.0, 0.0, 1.0, 0.0, 0.0, 0.0, 0.0, 0.0, 1.0, 0.0, 0.0, 1.0, 1.0, 0.0, 1.0, 0.0, 0.0, 1.0, 0.0, 0.0, 0.0, 0.0, 1.0, 0.0, 1.0, 0.0, 0.0, 1.0, 0.0, 0.0, 0.0, 0.0, 0.0, 0.0, 1.0, 0.0, 0.0, 0.0, 0.0, 0.0, 1.0, 0.0, 0.0, 1.0, 1.0, 0.0, 1.0, 0.0, 0.0, 1.0, 0.0, 0.0, 0.0, 0.0, 1.0, 0.0, 1.0, 0.0, 0.0, 1.0, 0.0, 0.0, 0.0, 0.0, 0.0, 0.0, 1.0, 0.0, 0.0, 0.0, 0.0, 0.0, 1.0, 0.0, 0.0, 1.0, 1.0, 0.0, 1.0, 0.0, 0.0, 1.0, 0.0, 0.0, 0.0, 0.0, 1.0, 0.0, 1.0, 0.0, 0.0, 1.0, 0.0, 0.0, 0.0, 0.0, 0.0, 0.0, 1.0, 0.0, 0.0, 0.0, 0.0, 0.0, 1.0, 0.0, 0.0, 1.0, 1.0, 0.0, 0.0, 0.0, 0.0, 0.0, 0.0, 0.0, 0.0, 0.0, 1.0, 0.0, 0.0, 0.0, 0.0, 0.0, 0.0, 0.0, 0.0, 0.0, 0.0, 0.0, 0.0, 0.0, 0.0, 0.0, 0.0, 0.0, 0.0, 0.0]\n",
      "solution number 2\n",
      "[-0.0, 1.0, -0.0, 1.0, -0.0, -0.0, 0.0, 1.0, -0.0, 1.0, 0.0, 0.0, 0.0, 0.0, 1.0, -0.0, 1.0, -0.0, 1.0, 1.0, 0.0, 0.0, 0.0, 0.0, 1.0, -0.0, 1.0, -0.0, 0.0, 0.0, 0.0, 1.0, 1.0, -0.0, 1.0, 1.0, 1.0, 1.0, 1.0, -0.0, 0.0, 1.0, 0.0, 0.0, 0.0, 0.0, 1.0, -0.0, 1.0, -0.0, 0.0, 1.0, 0.0, 0.0, 0.0, 0.0, 1.0, -0.0, 1.0, -0.0, 0.0, 0.0, 0.0, -0.0, 1.0, 0.0, 1.0, 1.0, 1.0, -0.0, 1.0, -0.0, -0.0, 1.0, -0.0, 0.0, 0.0, 0.0, 1.0, -0.0, 1.0, -0.0, -0.0, 1.0, -0.0, 0.0, 0.0, 0.0, 1.0, -0.0, 1.0, -0.0, 0.0, 0.0, 0.0, 0.0, 1.0, 0.0, 1.0, 1.0, 1.0, -0.0, 1.0, -0.0, -0.0, 1.0, 0.0, 0.0, 0.0, 0.0, 1.0, -0.0, 1.0, 0.0, -0.0, 1.0, -0.0, 0.0, 0.0, 0.0, 1.0, -0.0, 1.0, -0.0, 0.0, 0.0, 0.0, -0.0, 1.0, 0.0, 1.0, 1.0, 1.0, -0.0, 0.0, 0.0, -0.0, 0.0, 0.0, 0.0, 0.0, 0.0, 1.0, -0.0, 0.0, 0.0, -0.0, 0.0, 0.0, 0.0, 0.0, 0.0, 1.0, -0.0, 0.0, 0.0, 0.0, 0.0, 0.0, -0.0, 0.0, 0.0, -0.0, 1.0, 0.0, 1.0, -0.0, -0.0, 1.0, -0.0, -0.0, 1.0, 0.0, 0.0, 0.0, 0.0, -0.0, -0.0, 1.0, -0.0, -0.0, 1.0, 0.0, 0.0, 0.0, 0.0, 1.0, 0.0, 1.0, 0.0, 0.0, 0.0, 0.0, 0.0, 1.0, 0.0, -0.0, 1.0, -0.0, -0.0, 1.0, -0.0, 0.0, 0.0, 1.0, 0.0, 0.0, 0.0, -0.0, -0.0, 0.0, 1.0, 0.0, 1.0, 0.0, 0.0, 0.0, 0.0, 1.0, 0.0, 1.0, 0.0, 0.0, 0.0, 0.0, 0.0, 1.0, 0.0, -0.0, 1.0, 1.0, -0.0, 1.0, -0.0, 1.0, 1.0, -0.0, 0.0, 0.0, 0.0, -0.0, 1.0, 1.0, -0.0, -0.0, 1.0, -0.0, 0.0, 0.0, 0.0, 1.0, 0.0, 1.0, 0.0, 0.0, 0.0, 0.0, 0.0, 1.0, 0.0, 1.0, 1.0, 1.0, -0.0, 1.0, -0.0, -0.0, 1.0, -0.0, 0.0, 0.0, 0.0, 1.0, 1.0, 1.0, -0.0, -0.0, 1.0, -0.0, 0.0, 0.0, 0.0, 1.0, 0.0, 1.0, 0.0, 0.0, 0.0, 0.0, 0.0, 1.0, 0.0, 1.0, 1.0, 1.0, -0.0, 0.0, 0.0, -0.0, 0.0, 0.0, 0.0, 0.0, 0.0, 1.0, -0.0, 0.0, 0.0, -0.0, 0.0, 0.0, 0.0, 0.0, 0.0, 1.0, 0.0, 0.0, 0.0, 0.0, 0.0, 0.0, 0.0, 0.0, 0.0, -0.0, 1.0, -0.0, 1.0, -0.0, -0.0, 1.0, -0.0, -0.0, 1.0, 0.0, 0.0, 0.0, 0.0, 1.0, 0.0, 1.0, 0.0, 0.0, 0.0, 0.0, 0.0, 0.0, 0.0, -0.0, -0.0, 1.0, -0.0, 0.0, 0.0, 0.0, -0.0, 1.0, -0.0, -0.0, 1.0, -0.0, -0.0, 1.0, -0.0, 0.0, 1.0, 0.0, 0.0, 0.0, 0.0, 1.0, 0.0, 1.0, 0.0, 0.0, 1.0, 0.0, 0.0, 0.0, 0.0, -0.0, -0.0, 1.0, -0.0, 0.0, 0.0, 0.0, -0.0, 1.0, 0.0, -0.0, 1.0, -0.0, -0.0, 1.0, -0.0, -0.0, 1.0, -0.0, 0.0, 0.0, 0.0, 1.0, 0.0, 1.0, 0.0, 0.0, 1.0, 0.0, 0.0, 0.0, 0.0, -0.0, -0.0, 1.0, -0.0, 0.0, 0.0, 0.0, 0.0, 0.0, 1.0, -0.0, 1.0, -0.0, -0.0, 1.0, -0.0, -0.0, 0.0, 1.0, 0.0, 0.0, 0.0, 1.0, 0.0, 1.0, 0.0, 0.0, 1.0, 0.0, 0.0, 0.0, 0.0, -0.0, -0.0, 1.0, -0.0, 0.0, 0.0, 0.0, 1.0, 1.0, -0.0, 1.0, 1.0, 1.0, -0.0, 0.0, 0.0, 1.0, 0.0, 0.0, 0.0, 0.0, 0.0, 1.0, 0.0, 0.0, 0.0, 0.0, 0.0, 0.0, 0.0, 0.0, 0.0, 1.0, -0.0, 0.0, 0.0, 0.0, 0.0, 0.0, 1.0, 0.0, 0.0, 0.0, 0.0, -0.0, 1.0, 1.0, 0.0, 1.0, 0.0, 0.0, 0.0, 0.0, 0.0, 0.0, 0.0, -0.0, 1.0, 1.0, -0.0, -0.0, 1.0, 0.0, 0.0, 0.0, 0.0, -0.0, -0.0, 1.0, -0.0, 0.0, 0.0, 0.0, -0.0, 0.0, 1.0, -0.0, 1.0, 1.0, 0.0, 1.0, 0.0, 0.0, 1.0, 0.0, 0.0, 0.0, 0.0, -0.0, -0.0, 1.0, -0.0, 0.0, 1.0, 0.0, 0.0, 0.0, 0.0, 1.0, -0.0, 1.0, -0.0, 0.0, 0.0, 0.0, 1.0, 1.0, 0.0, -0.0, 1.0, 1.0, 0.0, 1.0, 0.0, 0.0, 1.0, 0.0, 0.0, 0.0, 0.0, -0.0, -0.0, 1.0, -0.0, -0.0, 0.0, 1.0, 0.0, 0.0, 0.0, 1.0, -0.0, 1.0, -0.0, 0.0, 0.0, 0.0, 0.0, 1.0, 0.0, 1.0, 1.0, 1.0, 0.0, 1.0, 0.0, 0.0, 1.0, 0.0, 0.0, 0.0, 0.0, 1.0, -0.0, 1.0, -0.0, 1.0, 1.0, -0.0, 0.0, 0.0, 0.0, 1.0, -0.0, 1.0, 0.0, 0.0, 0.0, 0.0, -0.0, 1.0, -0.0, 1.0, 1.0, 1.0, 0.0, 0.0, 0.0, 0.0, 0.0, 0.0, 0.0, 0.0, 0.0, 1.0, -0.0, 0.0, 0.0, -0.0, 0.0, 0.0, 0.0, 0.0, 0.0, 1.0, 0.0, 0.0, 0.0, 0.0, 0.0, 0.0, -0.0, 0.0, 0.0, -0.0, 1.0, 0.0, 1.0, 1.0, 0.0, 1.0, 0.0, 0.0, 0.0, 0.0, 0.0, 0.0, 0.0, 1.0, 0.0, 1.0, 0.0, 0.0, 0.0, 0.0, 0.0, 0.0, 0.0, -0.0, -0.0, 1.0, -0.0, 0.0, 0.0, 0.0, -0.0, 1.0, -0.0, -0.0, 1.0, 1.0, 0.0, 1.0, 0.0, 0.0, 1.0, 0.0, 0.0, 0.0, 0.0, 1.0, 0.0, 1.0, 0.0, 0.0, 1.0, 0.0, 0.0, 0.0, 0.0, -0.0, -0.0, 1.0, -0.0, 0.0, 0.0, 0.0, -0.0, 1.0, 0.0, -0.0, 1.0, 1.0, 0.0, 1.0, 0.0, 0.0, 1.0, 0.0, 0.0, 0.0, 0.0, 1.0, 0.0, 1.0, 0.0, 0.0, 1.0, 0.0, 0.0, 0.0, 0.0, -0.0, -0.0, 1.0, -0.0, 0.0, 0.0, 0.0, 0.0, 1.0, 0.0, -0.0, 1.0, 1.0, 0.0, 1.0, 0.0, 0.0, 1.0, 0.0, 0.0, 0.0, 0.0, 1.0, 0.0, 1.0, 0.0, 0.0, 1.0, 0.0, 0.0, 0.0, 0.0, -0.0, -0.0, 1.0, -0.0, 0.0, 0.0, 0.0, -0.0, 1.0, -0.0, 0.0, 1.0, 1.0, 0.0, 0.0, 0.0, 0.0, 0.0, 0.0, 0.0, 0.0, 0.0, 1.0, 0.0, 0.0, 0.0, 0.0, 0.0, 0.0, 0.0, 0.0, 0.0, -0.0, -0.0, 0.0, 0.0, 0.0, 0.0, 0.0, -0.0, 0.0, 0.0]\n",
      "solution number 3\n",
      "[-0.0, 1.0, -0.0, 1.0, -0.0, -0.0, 0.0, 1.0, -0.0, 1.0, 0.0, 0.0, 0.0, 0.0, 1.0, -0.0, 1.0, -0.0, 1.0, 1.0, 0.0, 0.0, 0.0, 0.0, 1.0, -0.0, 1.0, -0.0, 0.0, 0.0, 0.0, 1.0, 1.0, 0.0, 1.0, 1.0, 1.0, 1.0, 1.0, -0.0, 0.0, 1.0, 0.0, 0.0, 0.0, 0.0, 1.0, -0.0, 1.0, -0.0, 0.0, 1.0, 0.0, 0.0, 0.0, 0.0, 1.0, -0.0, 1.0, -0.0, 0.0, 0.0, 0.0, 0.0, 1.0, 0.0, 1.0, 1.0, 1.0, -0.0, 1.0, -0.0, -0.0, 1.0, -0.0, 0.0, 0.0, 0.0, 1.0, -0.0, 1.0, -0.0, -0.0, 1.0, -0.0, 0.0, 0.0, 0.0, 1.0, -0.0, 1.0, -0.0, 0.0, 0.0, 0.0, 0.0, 1.0, 0.0, 1.0, 1.0, 1.0, -0.0, 1.0, -0.0, -0.0, 1.0, -0.0, 0.0, 0.0, 0.0, 1.0, -0.0, 1.0, -0.0, -0.0, 1.0, -0.0, 0.0, 0.0, 0.0, 1.0, -0.0, 1.0, -0.0, 0.0, 0.0, 0.0, -0.0, 1.0, -0.0, 1.0, 1.0, 1.0, -0.0, 0.0, 0.0, -0.0, 0.0, 0.0, 0.0, 0.0, 0.0, 1.0, -0.0, 0.0, 0.0, -0.0, 0.0, 0.0, 0.0, 0.0, 0.0, 1.0, -0.0, 0.0, 0.0, 0.0, 0.0, 0.0, -0.0, 0.0, 0.0, -0.0, 1.0, 0.0, 1.0, -0.0, -0.0, 1.0, -0.0, -0.0, 1.0, 0.0, 0.0, 0.0, 0.0, -0.0, -0.0, 1.0, 0.0, -0.0, 1.0, 0.0, 0.0, 0.0, 0.0, 1.0, 0.0, 1.0, 0.0, 0.0, 0.0, 0.0, 0.0, 1.0, 0.0, -0.0, 1.0, -0.0, -0.0, 1.0, -0.0, 0.0, 0.0, 1.0, 0.0, 0.0, 0.0, -0.0, -0.0, 0.0, 1.0, 0.0, 1.0, 0.0, 0.0, 0.0, 0.0, 1.0, 0.0, 1.0, 0.0, 0.0, 0.0, 0.0, 0.0, 1.0, 0.0, -0.0, 1.0, 1.0, -0.0, 1.0, 0.0, 1.0, 1.0, -0.0, 0.0, 0.0, 0.0, -0.0, 1.0, 1.0, -0.0, -0.0, 1.0, -0.0, 0.0, 0.0, 0.0, 1.0, 0.0, 1.0, 0.0, 0.0, 0.0, 0.0, 0.0, 1.0, 0.0, 1.0, 1.0, 1.0, -0.0, 1.0, -0.0, -0.0, 1.0, -0.0, 0.0, 0.0, 0.0, 1.0, 1.0, 1.0, -0.0, -0.0, 1.0, -0.0, 0.0, 0.0, 0.0, 1.0, 0.0, 1.0, 0.0, 0.0, 0.0, 0.0, 0.0, 1.0, 0.0, 1.0, 1.0, 1.0, -0.0, 0.0, 0.0, -0.0, 0.0, 0.0, 0.0, 0.0, 0.0, 1.0, -0.0, 0.0, 0.0, -0.0, 0.0, 0.0, 0.0, 0.0, 0.0, 1.0, 0.0, 0.0, 0.0, 0.0, 0.0, 0.0, 0.0, 0.0, 0.0, -0.0, 1.0, -0.0, 1.0, -0.0, -0.0, 1.0, -0.0, -0.0, 1.0, 0.0, 0.0, 0.0, 0.0, 1.0, 0.0, 1.0, 0.0, 0.0, 0.0, 0.0, 0.0, 0.0, 0.0, -0.0, -0.0, 1.0, -0.0, 0.0, 0.0, 0.0, -0.0, 1.0, -0.0, -0.0, 1.0, -0.0, -0.0, 1.0, -0.0, 0.0, 1.0, 0.0, 0.0, 0.0, 0.0, 1.0, 0.0, 1.0, 0.0, 0.0, 1.0, 0.0, 0.0, 0.0, 0.0, -0.0, -0.0, 1.0, -0.0, 0.0, 0.0, 0.0, -0.0, 1.0, 0.0, -0.0, 1.0, -0.0, -0.0, 1.0, -0.0, -0.0, 1.0, -0.0, 0.0, 0.0, 0.0, 1.0, 0.0, 1.0, 0.0, 0.0, 1.0, 0.0, 0.0, 0.0, 0.0, -0.0, -0.0, 1.0, -0.0, 0.0, 0.0, 0.0, 0.0, 0.0, 1.0, -0.0, 1.0, -0.0, -0.0, 1.0, -0.0, -0.0, 0.0, 1.0, 0.0, 0.0, 0.0, 1.0, 0.0, 1.0, 0.0, 0.0, 1.0, 0.0, 0.0, 0.0, 0.0, -0.0, -0.0, 1.0, -0.0, 0.0, 0.0, 0.0, 1.0, 1.0, -0.0, 1.0, 1.0, 1.0, -0.0, 0.0, 0.0, 1.0, 0.0, 0.0, 0.0, 0.0, 0.0, 1.0, 0.0, 0.0, 0.0, 0.0, 0.0, 0.0, 0.0, 0.0, 0.0, 1.0, -0.0, 0.0, 0.0, 0.0, 0.0, 0.0, 1.0, 0.0, 0.0, 1.0, -0.0, -0.0, 1.0, 1.0, 0.0, 1.0, 0.0, 0.0, 0.0, 0.0, 0.0, 0.0, 0.0, -0.0, 1.0, 1.0, -0.0, -0.0, 1.0, 0.0, 0.0, 0.0, 0.0, -0.0, -0.0, 1.0, -0.0, 0.0, 0.0, 0.0, -0.0, 1.0, -0.0, -0.0, 1.0, 1.0, 0.0, 1.0, 0.0, 0.0, 1.0, 0.0, 0.0, 0.0, 0.0, -0.0, -0.0, 1.0, -0.0, 0.0, 1.0, 0.0, 0.0, 0.0, 0.0, -0.0, -0.0, 1.0, -0.0, 0.0, 0.0, 0.0, -0.0, 1.0, 0.0, -0.0, 1.0, 1.0, 0.0, 1.0, 0.0, 0.0, 1.0, 0.0, 0.0, 0.0, 0.0, -0.0, -0.0, 1.0, 0.0, -0.0, 0.0, 1.0, 0.0, 0.0, 0.0, -0.0, -0.0, 1.0, -0.0, 0.0, 0.0, 0.0, 0.0, 1.0, 0.0, -0.0, 1.0, 1.0, 0.0, 1.0, 0.0, 0.0, 1.0, 0.0, 0.0, 0.0, 0.0, 1.0, -0.0, 1.0, -0.0, 1.0, 1.0, -0.0, 0.0, 0.0, 0.0, -0.0, -0.0, 0.0, 1.0, 0.0, 0.0, 0.0, -0.0, 1.0, -0.0, 1.0, 1.0, 1.0, 0.0, 0.0, 0.0, 0.0, 0.0, 0.0, 0.0, 0.0, 0.0, 1.0, -0.0, 0.0, 0.0, -0.0, 0.0, 0.0, 0.0, 0.0, 0.0, 1.0, 1.0, 0.0, 0.0, 0.0, 0.0, 0.0, -0.0, 0.0, 0.0, -0.0, 1.0, 0.0, 1.0, 1.0, 0.0, 1.0, 0.0, 0.0, 0.0, 0.0, 0.0, 0.0, 0.0, 1.0, 0.0, 1.0, 0.0, 0.0, 0.0, 0.0, 0.0, 0.0, 0.0, -0.0, -0.0, 1.0, -0.0, 0.0, 0.0, 0.0, 0.0, 1.0, -0.0, 0.0, 1.0, 1.0, 0.0, 1.0, 0.0, 0.0, 1.0, 0.0, 0.0, 0.0, 0.0, 1.0, 0.0, 1.0, 0.0, 0.0, 1.0, 0.0, 0.0, 0.0, 0.0, 0.0, -0.0, 1.0, -0.0, 0.0, 0.0, 0.0, 0.0, 1.0, 0.0, 0.0, 1.0, 1.0, 0.0, 1.0, 0.0, 0.0, 1.0, 0.0, 0.0, 0.0, 0.0, 1.0, 0.0, 1.0, 0.0, 0.0, 1.0, 0.0, 0.0, 0.0, 0.0, 0.0, -0.0, 1.0, -0.0, 0.0, 0.0, 0.0, 0.0, 1.0, 0.0, 0.0, 1.0, 1.0, 0.0, 1.0, 0.0, 0.0, 1.0, 0.0, 0.0, 0.0, 0.0, 1.0, 0.0, 1.0, 0.0, 0.0, 1.0, 0.0, 0.0, 0.0, 0.0, 0.0, -0.0, 1.0, -0.0, 0.0, 0.0, 0.0, -0.0, 1.0, -0.0, 0.0, 1.0, 1.0, 0.0, 0.0, 0.0, 0.0, 0.0, 0.0, 0.0, 0.0, 0.0, 1.0, 0.0, 0.0, 0.0, 0.0, 0.0, 0.0, 0.0, 0.0, 0.0, 0.0, -0.0, 0.0, 0.0, 0.0, 0.0, 0.0, -0.0, 0.0, 0.0]\n",
      "solution number 4\n",
      "[0.0, 1.0, 0.0, 1.0, 0.0, 0.0, 0.0, 1.0, 0.0, 1.0, 0.0, 0.0, 0.0, 0.0, 1.0, 0.0, 1.0, 0.0, 1.0, 1.0, 0.0, 0.0, 0.0, 0.0, 0.0, 0.0, 1.0, 0.0, 0.0, 0.0, 0.0, 0.0, 0.0, 1.0, 1.0, 1.0, 1.0, 1.0, 1.0, 0.0, 0.0, 1.0, 0.0, 0.0, 0.0, 0.0, 1.0, 0.0, 1.0, 0.0, 0.0, 1.0, 0.0, 0.0, 0.0, 0.0, 1.0, 0.0, 1.0, 0.0, 0.0, 0.0, 0.0, 1.0, 1.0, 0.0, 1.0, 1.0, 1.0, 0.0, 1.0, 0.0, 0.0, 1.0, 0.0, 0.0, 0.0, 0.0, 1.0, 0.0, 1.0, 0.0, 0.0, 1.0, 0.0, 0.0, 0.0, 0.0, 1.0, 0.0, 1.0, 0.0, 0.0, 0.0, 0.0, 0.0, 1.0, 0.0, 1.0, 1.0, 1.0, 0.0, 1.0, 0.0, 0.0, 1.0, 0.0, 0.0, 0.0, 0.0, 1.0, 0.0, 1.0, 0.0, 0.0, 1.0, 0.0, 0.0, 0.0, 0.0, 1.0, 0.0, 1.0, 0.0, 0.0, 0.0, 0.0, 0.0, 1.0, 0.0, 1.0, 1.0, 1.0, 0.0, 0.0, 0.0, 0.0, 0.0, 0.0, 0.0, 0.0, 0.0, 1.0, 0.0, 0.0, 0.0, 0.0, 0.0, 0.0, 0.0, 0.0, 0.0, 1.0, 0.0, 0.0, 0.0, 0.0, 0.0, 0.0, 0.0, 0.0, 0.0, 0.0, 1.0, 0.0, 1.0, 0.0, 0.0, 1.0, 0.0, 0.0, 1.0, 0.0, 0.0, 0.0, 0.0, 0.0, 0.0, 1.0, 0.0, 0.0, 1.0, 0.0, 0.0, 0.0, 0.0, 1.0, 0.0, 1.0, 0.0, 0.0, 0.0, 0.0, 0.0, 1.0, 0.0, 0.0, 1.0, 0.0, 0.0, 1.0, 0.0, 0.0, 0.0, 1.0, 0.0, 0.0, 0.0, 0.0, 0.0, 0.0, 1.0, 0.0, 1.0, 0.0, 0.0, 0.0, 0.0, 1.0, 0.0, 1.0, 0.0, 0.0, 0.0, 0.0, 0.0, 1.0, 0.0, 0.0, 1.0, 1.0, 0.0, 1.0, 0.0, 1.0, 1.0, 0.0, 0.0, 0.0, 0.0, 0.0, 1.0, 1.0, 0.0, 0.0, 1.0, 0.0, 0.0, 0.0, 0.0, 1.0, 0.0, 1.0, 0.0, 0.0, 0.0, 0.0, 0.0, 1.0, 0.0, 1.0, 1.0, 1.0, 0.0, 1.0, 0.0, 0.0, 1.0, 0.0, 0.0, 0.0, 0.0, 1.0, 1.0, 1.0, 0.0, 0.0, 1.0, 0.0, 0.0, 0.0, 0.0, 1.0, 0.0, 1.0, 0.0, 0.0, 0.0, 0.0, 0.0, 1.0, 0.0, 1.0, 1.0, 1.0, 0.0, 0.0, 0.0, 0.0, 0.0, 0.0, 0.0, 0.0, 0.0, 1.0, 0.0, 0.0, 0.0, 0.0, 0.0, 0.0, 0.0, 0.0, 0.0, 1.0, 0.0, 0.0, 0.0, 0.0, 0.0, 0.0, 0.0, 0.0, 0.0, 0.0, 1.0, 0.0, 1.0, 0.0, 0.0, 1.0, 0.0, 0.0, 1.0, 0.0, 0.0, 0.0, 0.0, 1.0, 0.0, 1.0, 0.0, 0.0, 0.0, 0.0, 0.0, 0.0, 0.0, 0.0, 0.0, 1.0, 0.0, 0.0, 0.0, 0.0, 0.0, 1.0, 0.0, 0.0, 1.0, 0.0, 0.0, 1.0, 0.0, 0.0, 1.0, 0.0, 0.0, 0.0, 0.0, 1.0, 0.0, 1.0, 0.0, 0.0, 1.0, 0.0, 0.0, 0.0, 0.0, 0.0, 0.0, 1.0, 0.0, 0.0, 0.0, 0.0, 0.0, 1.0, 0.0, 0.0, 1.0, 0.0, 0.0, 1.0, 0.0, 0.0, 1.0, 0.0, 0.0, 0.0, 0.0, 1.0, 0.0, 1.0, 0.0, 0.0, 1.0, 0.0, 0.0, 0.0, 0.0, 0.0, 0.0, 1.0, 0.0, 0.0, 0.0, 0.0, 0.0, 0.0, 1.0, 0.0, 1.0, 0.0, 0.0, 1.0, 0.0, 0.0, 0.0, 1.0, 0.0, 0.0, 0.0, 1.0, 0.0, 1.0, 0.0, 0.0, 1.0, 0.0, 0.0, 0.0, 0.0, 0.0, 0.0, 1.0, 0.0, 0.0, 0.0, 0.0, 1.0, 1.0, 0.0, 1.0, 1.0, 1.0, 0.0, 0.0, 0.0, 1.0, 0.0, 0.0, 0.0, 0.0, 0.0, 1.0, 0.0, 0.0, 0.0, 0.0, 0.0, 0.0, 0.0, 0.0, 0.0, 1.0, 0.0, 0.0, 0.0, 0.0, 0.0, 0.0, 1.0, 0.0, 0.0, 1.0, 0.0, 0.0, 1.0, 1.0, 0.0, 1.0, 0.0, 0.0, 0.0, 0.0, 0.0, 0.0, 0.0, 0.0, 1.0, 1.0, 0.0, 0.0, 1.0, 0.0, 0.0, 0.0, 0.0, 0.0, 0.0, 1.0, 0.0, 0.0, 0.0, 0.0, 0.0, 1.0, 0.0, 0.0, 1.0, 1.0, 0.0, 1.0, 0.0, 0.0, 1.0, 0.0, 0.0, 0.0, 0.0, 0.0, 0.0, 1.0, 0.0, 0.0, 1.0, 0.0, 0.0, 0.0, 0.0, 0.0, 0.0, 1.0, 0.0, 0.0, 0.0, 0.0, 0.0, 1.0, 0.0, 0.0, 1.0, 1.0, 0.0, 1.0, 0.0, 0.0, 1.0, 0.0, 0.0, 0.0, 0.0, 0.0, 0.0, 1.0, 0.0, 0.0, 0.0, 1.0, 0.0, 0.0, 0.0, 0.0, 0.0, 1.0, 0.0, 0.0, 0.0, 0.0, 0.0, 1.0, 0.0, 0.0, 1.0, 1.0, 0.0, 1.0, 0.0, 0.0, 1.0, 0.0, 0.0, 0.0, 0.0, 1.0, 0.0, 1.0, 0.0, 1.0, 1.0, 0.0, 0.0, 0.0, 0.0, 0.0, 0.0, 0.0, 1.0, 0.0, 0.0, 0.0, 0.0, 1.0, 0.0, 1.0, 1.0, 1.0, 0.0, 0.0, 0.0, 0.0, 0.0, 0.0, 0.0, 0.0, 0.0, 1.0, 0.0, 0.0, 0.0, 0.0, 0.0, 0.0, 0.0, 0.0, 0.0, 1.0, 1.0, 0.0, 0.0, 0.0, 0.0, 0.0, 0.0, 0.0, 0.0, -0.0, 1.0, 0.0, 1.0, 1.0, 0.0, 1.0, 0.0, 0.0, 0.0, 0.0, 0.0, 0.0, 0.0, 1.0, 0.0, 1.0, 0.0, 0.0, 0.0, 0.0, 0.0, 0.0, 0.0, 0.0, 0.0, 1.0, 0.0, 0.0, 0.0, 0.0, 1.0, 1.0, 0.0, 0.0, 1.0, 1.0, 0.0, 1.0, 0.0, 0.0, 1.0, 0.0, 0.0, 0.0, 0.0, 1.0, 0.0, 1.0, 0.0, 0.0, 1.0, 0.0, 0.0, 0.0, 0.0, 0.0, 0.0, 1.0, 0.0, 0.0, 0.0, 0.0, 0.0, 1.0, 0.0, 0.0, 1.0, 1.0, 0.0, 1.0, 0.0, 0.0, 1.0, 0.0, 0.0, 0.0, 0.0, 1.0, 0.0, 1.0, 0.0, 0.0, 1.0, 0.0, 0.0, 0.0, 0.0, 0.0, 0.0, 1.0, 0.0, 0.0, 0.0, 0.0, 0.0, 1.0, 0.0, 0.0, 1.0, 1.0, 0.0, 1.0, 0.0, 0.0, 1.0, 0.0, 0.0, 0.0, 0.0, 1.0, 0.0, 1.0, 0.0, 0.0, 1.0, 0.0, 0.0, 0.0, 0.0, 0.0, 0.0, 1.0, 0.0, 0.0, 0.0, 0.0, 0.0, 1.0, 0.0, 0.0, 1.0, 1.0, 0.0, 0.0, 0.0, 0.0, 0.0, 0.0, 0.0, 0.0, 0.0, 1.0, 0.0, 0.0, 0.0, 0.0, 0.0, 0.0, 0.0, 0.0, 0.0, 0.0, 0.0, 0.0, 0.0, 0.0, 0.0, 0.0, 0.0, 0.0, 0.0]\n",
      "solution number 5\n",
      "[0.0, 1.0, 0.0, 1.0, 0.0, 0.0, 1.0, 0.0, 0.0, 1.0, 0.0, 0.0, 0.0, 0.0, 0.0, 0.0, 1.0, 0.0, 0.0, 1.0, 0.0, 0.0, 0.0, 0.0, 0.0, 0.0, 0.0, 1.0, 0.0, 0.0, 0.0, 0.0, 1.0, 0.0, 0.0, 1.0, 0.0, 0.0, 1.0, 0.0, 0.0, 0.0, 1.0, 0.0, 0.0, 0.0, 0.0, 0.0, 0.0, 1.0, 0.0, 1.0, 0.0, 0.0, 0.0, 0.0, 1.0, 1.0, 1.0, 0.0, 0.0, 0.0, 0.0, 0.0, 1.0, 0.0, 1.0, 1.0, 1.0, 0.0, 1.0, 0.0, 1.0, 1.0, 0.0, 0.0, 0.0, 0.0, 1.0, 1.0, 1.0, 0.0, 0.0, 1.0, 0.0, 0.0, 0.0, 0.0, 1.0, 0.0, 1.0, 0.0, 0.0, 0.0, 0.0, 0.0, 1.0, 0.0, 1.0, 1.0, 1.0, 0.0, 1.0, 0.0, 0.0, 1.0, 0.0, 0.0, 0.0, 0.0, 1.0, 0.0, 1.0, 0.0, 0.0, 1.0, 0.0, 0.0, 0.0, 0.0, 1.0, 0.0, 1.0, 0.0, 0.0, 0.0, 0.0, 0.0, 1.0, 0.0, 1.0, 1.0, 1.0, 0.0, 0.0, 0.0, 0.0, 0.0, 0.0, 0.0, 0.0, 0.0, 1.0, 0.0, 0.0, 0.0, 0.0, 0.0, 0.0, 0.0, 0.0, 0.0, 1.0, 0.0, 0.0, 0.0, 0.0, 0.0, 0.0, 0.0, 0.0, 0.0, 2.0, 0.0, 0.0, 1.0, 1.0, 1.0, 1.0, 0.0, 0.0, 1.0, 0.0, 0.0, 0.0, 0.0, 0.0, 0.0, 1.0, 0.0, 0.0, 1.0, 0.0, 0.0, 0.0, 0.0, 1.0, 0.0, 1.0, 0.0, 0.0, 0.0, 0.0, 0.0, 1.0, 0.0, 0.0, 1.0, 1.0, 0.0, 1.0, 0.0, 0.0, 1.0, 0.0, 0.0, 0.0, 0.0, 0.0, 0.0, 1.0, 0.0, 0.0, 1.0, 0.0, 0.0, 0.0, 0.0, 1.0, 0.0, 1.0, 0.0, 0.0, 0.0, 0.0, 0.0, 1.0, 0.0, 0.0, 1.0, 1.0, 0.0, 1.0, 0.0, 0.0, 1.0, 0.0, 0.0, 0.0, 0.0, 0.0, 0.0, 1.0, 0.0, 0.0, 1.0, 0.0, 0.0, 0.0, 0.0, 1.0, 0.0, 1.0, 0.0, 0.0, 0.0, 0.0, 0.0, 1.0, 0.0, 0.0, 1.0, 1.0, 0.0, 1.0, 0.0, 0.0, 1.0, 0.0, 0.0, 0.0, 0.0, 0.0, 0.0, 1.0, 0.0, 0.0, 1.0, 0.0, 0.0, 0.0, 0.0, 1.0, 0.0, 1.0, 0.0, 0.0, 0.0, 0.0, 0.0, 1.0, 0.0, 0.0, 1.0, 1.0, 0.0, 0.0, 0.0, 0.0, 0.0, 0.0, 0.0, 0.0, 0.0, 0.0, 0.0, 0.0, 0.0, 0.0, 0.0, 0.0, 0.0, 0.0, 0.0, 1.0, 0.0, 0.0, 0.0, 0.0, 0.0, 0.0, 0.0, 0.0, 0.0, 0.0, 1.0, 0.0, 1.0, 1.0, 0.0, 1.0, 0.0, 1.0, 1.0, 0.0, 0.0, 0.0, 0.0, 1.0, 0.0, 1.0, 0.0, 0.0, 0.0, 0.0, 0.0, 0.0, 0.0, 0.0, 0.0, 1.0, 0.0, 0.0, 0.0, 0.0, 0.0, 1.0, 0.0, 0.0, 1.0, 1.0, 0.0, 1.0, 0.0, 0.0, 1.0, 0.0, 0.0, 0.0, 0.0, 1.0, 0.0, 1.0, 0.0, 0.0, 1.0, 0.0, 0.0, 0.0, 0.0, 0.0, 0.0, 1.0, 0.0, 0.0, 0.0, 0.0, 0.0, 1.0, 0.0, 0.0, 1.0, 1.0, 0.0, 1.0, 0.0, 0.0, 1.0, 0.0, 0.0, 0.0, 0.0, 1.0, 0.0, 1.0, 0.0, 0.0, 1.0, 0.0, 0.0, 0.0, 0.0, 0.0, 0.0, 1.0, 0.0, 0.0, 0.0, 0.0, 0.0, 0.0, 1.0, 0.0, 1.0, 1.0, 0.0, 1.0, 0.0, 0.0, 1.0, 0.0, 0.0, 0.0, 0.0, 1.0, 0.0, 1.0, 0.0, 0.0, 1.0, 0.0, 0.0, 0.0, 0.0, 0.0, 0.0, 1.0, 0.0, 0.0, 0.0, 0.0, 1.0, 1.0, 0.0, 1.0, 1.0, 1.0, 0.0, 0.0, 0.0, 0.0, 0.0, 0.0, 0.0, 0.0, 0.0, 1.0, 0.0, 0.0, 0.0, 0.0, 0.0, 0.0, 0.0, 0.0, 0.0, 1.0, 0.0, 0.0, 0.0, 0.0, 0.0, 0.0, 1.0, 0.0, 0.0, 1.0, 0.0, 0.0, 1.0, 1.0, 0.0, 1.0, 0.0, 0.0, 0.0, 0.0, 0.0, 0.0, 0.0, 0.0, 0.0, 1.0, 0.0, 0.0, 1.0, 0.0, 0.0, 0.0, 0.0, 0.0, 0.0, 1.0, 0.0, 0.0, 0.0, 0.0, 0.0, 1.0, 0.0, 0.0, 1.0, 1.0, 0.0, 1.0, 0.0, 0.0, 1.0, 0.0, 0.0, 0.0, 0.0, 0.0, 0.0, 1.0, 0.0, 0.0, 1.0, 0.0, 0.0, 0.0, 0.0, 0.0, 0.0, 1.0, 0.0, 0.0, 0.0, 0.0, 0.0, 1.0, 0.0, 0.0, 1.0, 1.0, 0.0, 1.0, 0.0, 0.0, 1.0, 0.0, 0.0, 0.0, 0.0, 0.0, 0.0, 1.0, 0.0, 0.0, 0.0, 1.0, 0.0, 0.0, 0.0, 0.0, 0.0, 0.0, 1.0, 0.0, 0.0, 0.0, 0.0, 1.0, 0.0, 0.0, 1.0, 1.0, 0.0, 1.0, 0.0, 0.0, 1.0, 0.0, 0.0, 0.0, 0.0, 0.0, 0.0, 1.0, 0.0, 1.0, 1.0, 0.0, 0.0, 0.0, 0.0, 1.0, 1.0, 1.0, 0.0, 0.0, 0.0, 0.0, 0.0, 1.0, 0.0, 1.0, 1.0, 1.0, 0.0, 0.0, 0.0, 0.0, 0.0, 0.0, 0.0, 0.0, 0.0, 1.0, 0.0, 0.0, 0.0, 1.0, 0.0, 0.0, 0.0, 0.0, 0.0, 1.0, 0.0, 0.0, 0.0, 0.0, 0.0, 0.0, 0.0, 0.0, 0.0, -0.0, 1.0, 0.0, 1.0, 1.0, 0.0, 1.0, 0.0, 0.0, 0.0, 0.0, 0.0, 0.0, 0.0, 1.0, 0.0, 1.0, 0.0, 0.0, 0.0, 0.0, 0.0, 0.0, 0.0, 0.0, 0.0, 1.0, 0.0, 0.0, 0.0, 0.0, 1.0, 1.0, 0.0, 1.0, 1.0, 1.0, 0.0, 1.0, 0.0, 0.0, 1.0, 0.0, 0.0, 0.0, 0.0, 1.0, 0.0, 1.0, 0.0, 0.0, 1.0, 0.0, 0.0, 0.0, 0.0, 1.0, 0.0, 1.0, 0.0, 0.0, 0.0, 0.0, 1.0, 1.0, 0.0, 1.0, 1.0, 1.0, 0.0, 1.0, 0.0, 0.0, 1.0, 0.0, 0.0, 0.0, 0.0, 1.0, 0.0, 1.0, 0.0, 0.0, 1.0, 0.0, 0.0, 0.0, 0.0, 1.0, 0.0, 1.0, 0.0, 0.0, 0.0, 0.0, 0.0, 1.0, 0.0, 1.0, 1.0, 1.0, 0.0, 1.0, 0.0, 0.0, 1.0, 0.0, 0.0, 0.0, 0.0, 1.0, 0.0, 1.0, 0.0, 0.0, 1.0, 0.0, 0.0, 0.0, 0.0, 1.0, 0.0, 1.0, 0.0, 0.0, 0.0, 0.0, 0.0, 1.0, 0.0, 1.0, 1.0, 1.0, 0.0, 0.0, 0.0, 0.0, 0.0, 0.0, 0.0, 0.0, 0.0, 1.0, 0.0, 0.0, 0.0, 0.0, 0.0, 0.0, 0.0, 0.0, 0.0, 1.0, 0.0, 0.0, 0.0, 0.0, 0.0, 0.0, 0.0, 0.0, 0.0]\n",
      "solution number 6\n",
      "[0.0, 1.0, 0.0, 1.0, 0.0, 0.0, 1.0, 0.0, 0.0, 1.0, 0.0, 0.0, 0.0, 0.0, 0.0, 0.0, 1.0, 0.0, 0.0, 1.0, 0.0, 0.0, 0.0, 0.0, 1.0, 1.0, 1.0, 0.0, 0.0, 0.0, 0.0, 0.0, 1.0, 0.0, 0.0, 1.0, 0.0, 0.0, 0.0, 1.0, 0.0, 1.0, 0.0, 0.0, 0.0, 0.0, 0.0, 0.0, 1.0, 0.0, 0.0, 0.0, 1.0, 0.0, 0.0, 0.0, 1.0, 0.0, 1.0, 0.0, 0.0, 0.0, 0.0, 0.0, 1.0, 0.0, 1.0, 1.0, 1.0, 1.0, 1.0, 0.0, 0.0, 1.0, 0.0, 0.0, 0.0, 0.0, 1.0, 0.0, 1.0, 0.0, 1.0, 1.0, 0.0, 0.0, 0.0, 0.0, 1.0, 0.0, 1.0, 0.0, 0.0, 0.0, 0.0, 0.0, 1.0, 0.0, 1.0, 1.0, 1.0, 0.0, 1.0, 0.0, 0.0, 1.0, 0.0, 0.0, 0.0, 0.0, 1.0, 0.0, 1.0, 0.0, 0.0, 1.0, 0.0, 0.0, 0.0, 0.0, 1.0, 0.0, 1.0, 0.0, 0.0, 0.0, 0.0, 0.0, 1.0, 0.0, 1.0, 1.0, 1.0, 0.0, 0.0, 0.0, 0.0, 0.0, 0.0, 0.0, 0.0, 0.0, 1.0, 0.0, 0.0, 0.0, 0.0, 0.0, 0.0, 0.0, 0.0, 0.0, 1.0, 0.0, 0.0, 0.0, 0.0, 0.0, 0.0, 0.0, 0.0, 0.0, 2.0, 0.0, 0.0, 1.0, 0.0, 0.0, 0.0, 1.0, 0.0, 1.0, 0.0, 0.0, 0.0, 0.0, 0.0, 0.0, 1.0, 0.0, 0.0, 1.0, 0.0, 0.0, 0.0, 0.0, 1.0, 0.0, 1.0, 0.0, 0.0, 0.0, 0.0, 0.0, 1.0, 0.0, 0.0, 1.0, 1.0, 1.0, 1.0, 0.0, 0.0, 1.0, 0.0, 0.0, 0.0, 0.0, 0.0, 0.0, 1.0, 0.0, 0.0, 1.0, 0.0, 0.0, 0.0, 0.0, 1.0, 0.0, 1.0, 0.0, 0.0, 0.0, 0.0, 0.0, 1.0, 0.0, 0.0, 1.0, 1.0, 0.0, 1.0, 0.0, 0.0, 1.0, 0.0, 0.0, 0.0, 0.0, 0.0, 0.0, 1.0, 0.0, 0.0, 1.0, 0.0, 0.0, 0.0, 0.0, 1.0, 0.0, 1.0, 0.0, 0.0, 0.0, 0.0, 0.0, 1.0, 0.0, 0.0, 1.0, 1.0, 0.0, 1.0, 0.0, 0.0, 1.0, 0.0, 0.0, 0.0, 0.0, 0.0, 0.0, 1.0, 0.0, 0.0, 1.0, 0.0, 0.0, 0.0, 0.0, 1.0, 0.0, 1.0, 0.0, 0.0, 0.0, 0.0, 0.0, 1.0, 0.0, 0.0, 1.0, 1.0, 0.0, 0.0, 0.0, 0.0, 0.0, 0.0, 0.0, 0.0, 0.0, 0.0, 0.0, 0.0, 0.0, 0.0, 0.0, 0.0, 0.0, 0.0, 0.0, 1.0, 0.0, 0.0, 0.0, 0.0, 0.0, 0.0, 0.0, 0.0, 0.0, 0.0, 1.0, 0.0, 1.0, 1.0, 0.0, 1.0, 0.0, 1.0, 1.0, 0.0, 0.0, 0.0, 0.0, 1.0, 0.0, 1.0, 0.0, 0.0, 0.0, 0.0, 0.0, 0.0, 0.0, 0.0, 0.0, 1.0, 0.0, 0.0, 0.0, 0.0, 0.0, 1.0, 0.0, 0.0, 1.0, 1.0, 0.0, 1.0, 0.0, 0.0, 1.0, 0.0, 0.0, 0.0, 0.0, 1.0, 0.0, 1.0, 0.0, 0.0, 1.0, 0.0, 0.0, 0.0, 0.0, 0.0, 0.0, 1.0, 0.0, 0.0, 0.0, 0.0, 0.0, 1.0, 0.0, 0.0, 1.0, 1.0, 0.0, 1.0, 0.0, 0.0, 1.0, 0.0, 0.0, 0.0, 0.0, 1.0, 0.0, 1.0, 0.0, 0.0, 1.0, 0.0, 0.0, 0.0, 0.0, 0.0, 0.0, 1.0, 0.0, 0.0, 0.0, 0.0, 0.0, 0.0, 1.0, 0.0, 1.0, 1.0, 0.0, 1.0, 0.0, 0.0, 1.0, 0.0, 0.0, 0.0, 0.0, 1.0, 0.0, 1.0, 0.0, 0.0, 1.0, 0.0, 0.0, 0.0, 0.0, 0.0, 0.0, 1.0, 0.0, 0.0, 0.0, 0.0, 1.0, 1.0, 0.0, 1.0, 1.0, 1.0, 0.0, 0.0, 0.0, 0.0, 0.0, 0.0, 0.0, 0.0, 0.0, 1.0, 0.0, 0.0, 0.0, 0.0, 0.0, 0.0, 0.0, 0.0, 0.0, 1.0, 0.0, 0.0, 0.0, 0.0, 0.0, 0.0, 1.0, 0.0, 0.0, 1.0, 0.0, 0.0, 1.0, 1.0, 0.0, 1.0, 0.0, 0.0, 0.0, 0.0, 0.0, 0.0, 0.0, 0.0, 0.0, 1.0, 0.0, 0.0, 1.0, 0.0, 0.0, 0.0, 0.0, 0.0, 0.0, 1.0, 0.0, 0.0, 0.0, 0.0, 0.0, 1.0, 0.0, 0.0, 1.0, 1.0, 0.0, 1.0, 0.0, 0.0, 1.0, 0.0, 0.0, 0.0, 0.0, 0.0, 0.0, 1.0, 0.0, 0.0, 1.0, 0.0, 0.0, 0.0, 0.0, 0.0, 0.0, 1.0, 0.0, 0.0, 0.0, 0.0, 0.0, 1.0, 0.0, 0.0, 1.0, 1.0, 0.0, 1.0, 0.0, 0.0, 1.0, 0.0, 0.0, 0.0, 0.0, 0.0, 0.0, 0.0, 1.0, 0.0, 0.0, 1.0, 0.0, 0.0, 0.0, 0.0, 0.0, 1.0, 0.0, 0.0, 0.0, 0.0, 0.0, 1.0, 0.0, 0.0, 1.0, 1.0, 0.0, 1.0, 0.0, 0.0, 1.0, 0.0, 0.0, 0.0, 0.0, 1.0, 1.0, 1.0, 0.0, 1.0, 1.0, 0.0, 0.0, 0.0, 0.0, 0.0, 0.0, 0.0, 1.0, 0.0, 0.0, 0.0, 0.0, 1.0, 0.0, 1.0, 1.0, 1.0, 0.0, 0.0, 0.0, 0.0, 0.0, 0.0, 0.0, 0.0, 0.0, 1.0, 0.0, 0.0, 0.0, 1.0, 0.0, 0.0, 0.0, 0.0, 0.0, 1.0, 1.0, 0.0, 0.0, 0.0, 0.0, 0.0, 0.0, 0.0, 0.0, -0.0, 1.0, 0.0, 1.0, 1.0, 0.0, 1.0, 0.0, 0.0, 0.0, 0.0, 0.0, 0.0, 0.0, 1.0, 0.0, 1.0, 0.0, 0.0, 0.0, 0.0, 0.0, 0.0, 0.0, 0.0, 0.0, 1.0, 0.0, 0.0, 0.0, 0.0, 1.0, 1.0, 0.0, 1.0, 1.0, 1.0, 0.0, 1.0, 0.0, 0.0, 1.0, 0.0, 0.0, 0.0, 0.0, 1.0, 0.0, 1.0, 0.0, 0.0, 1.0, 0.0, 0.0, 0.0, 0.0, 1.0, 0.0, 1.0, 0.0, 0.0, 0.0, 0.0, 1.0, 1.0, 0.0, 1.0, 1.0, 1.0, 0.0, 1.0, 0.0, 0.0, 1.0, 0.0, 0.0, 0.0, 0.0, 1.0, 0.0, 1.0, 0.0, 0.0, 1.0, 0.0, 0.0, 0.0, 0.0, 1.0, 0.0, 1.0, 0.0, 0.0, 0.0, 0.0, 0.0, 1.0, 0.0, 1.0, 1.0, 1.0, 0.0, 1.0, 0.0, 0.0, 1.0, 0.0, 0.0, 0.0, 0.0, 1.0, 0.0, 1.0, 0.0, 0.0, 1.0, 0.0, 0.0, 0.0, 0.0, 1.0, 0.0, 1.0, 0.0, 0.0, 0.0, 0.0, 0.0, 1.0, 0.0, 1.0, 1.0, 1.0, 0.0, 0.0, 0.0, 0.0, 0.0, 0.0, 0.0, 0.0, 0.0, 1.0, 0.0, 0.0, 0.0, 0.0, 0.0, 0.0, 0.0, 0.0, 0.0, 1.0, 0.0, 0.0, 0.0, 0.0, 0.0, 0.0, 0.0, 0.0, 0.0]\n",
      "solution number 7\n",
      "[2.0, 0.0, 0.0, 1.0, 0.0, 0.0, 0.0, 0.0, 0.0, 0.0, 0.0, 0.0, 0.0, 0.0, 0.0, 0.0, 0.0, 0.0, 0.0, 0.0, 0.0, 0.0, 0.0, 0.0, 0.0, 0.0, 0.0, 0.0, 0.0, 0.0, 0.0, 0.0, 0.0, 0.0, 0.0, 1.0, 0.0, 0.0, 0.0, 0.0, 0.0, 0.0, 0.0, 0.0, 0.0, 0.0, 0.0, 0.0, 0.0, 0.0, 0.0, 0.0, 0.0, 0.0, 0.0, 0.0, 0.0, 0.0, 0.0, 0.0, 0.0, 0.0, 0.0, 0.0, 0.0, 0.0, 0.0, 1.0, 0.0, 0.0, 0.0, 0.0, 0.0, 0.0, 0.0, 0.0, 0.0, 0.0, 0.0, 0.0, 0.0, 0.0, 0.0, 0.0, 0.0, 0.0, 0.0, 0.0, 0.0, 0.0, 0.0, 0.0, 0.0, 0.0, 0.0, 0.0, 0.0, 0.0, 0.0, 1.0, 0.0, 0.0, 0.0, 0.0, 0.0, 0.0, 0.0, 0.0, 0.0, 0.0, 0.0, 0.0, 0.0, 0.0, 0.0, 0.0, 0.0, 0.0, 0.0, 0.0, 0.0, 0.0, 0.0, 0.0, 0.0, 0.0, 0.0, 0.0, 0.0, 0.0, 0.0, 1.0, 0.0, 0.0, 1.0, 1.0, 0.0, 1.0, 1.0, 0.0, 1.0, 1.0, 0.0, 0.0, 1.0, 1.0, 0.0, 1.0, 1.0, 0.0, 1.0, 1.0, 0.0, 0.0, 1.0, 1.0, 0.0, 1.0, 1.0, 0.0, 1.0, 1.0, 2.0, 0.0, 0.0, 1.0, 0.0, 0.0, 0.0, 0.0, 0.0, 0.0, 0.0, 0.0, 0.0, 0.0, 0.0, 0.0, 0.0, 0.0, 0.0, 0.0, 0.0, 0.0, 0.0, 0.0, 1.0, 0.0, 0.0, 0.0, 0.0, 0.0, 0.0, 0.0, 0.0, 0.0, 0.0, 1.0, 0.0, 0.0, 0.0, 0.0, 0.0, 0.0, 0.0, 0.0, 0.0, 0.0, 0.0, 0.0, 0.0, 0.0, 0.0, 0.0, 0.0, 0.0, 0.0, 0.0, 1.0, 0.0, 0.0, 0.0, 0.0, 0.0, 0.0, 0.0, 0.0, 0.0, 0.0, 1.0, 0.0, 0.0, 0.0, 0.0, 0.0, 0.0, 0.0, 0.0, 0.0, 0.0, 0.0, 0.0, 0.0, 0.0, 0.0, 0.0, 0.0, 0.0, 0.0, 0.0, 1.0, 0.0, 0.0, 0.0, 0.0, 0.0, 0.0, 0.0, 0.0, 0.0, 0.0, 1.0, 0.0, 0.0, 0.0, 0.0, 0.0, 0.0, 0.0, 0.0, 0.0, 0.0, 0.0, 0.0, 0.0, 0.0, 0.0, 0.0, 0.0, 0.0, 0.0, 0.0, 1.0, 0.0, 0.0, 0.0, 0.0, 0.0, 0.0, 0.0, 0.0, 0.0, 0.0, 1.0, 0.0, 0.0, 1.0, 1.0, 0.0, 1.0, 1.0, 0.0, 1.0, 1.0, 0.0, 0.0, 1.0, 1.0, 0.0, 1.0, 1.0, 0.0, 1.0, 1.0, 1.0, 0.0, 1.0, 1.0, 0.0, 1.0, 1.0, 0.0, 1.0, 1.0, 1.0, 0.0, 0.0, 1.0, 0.0, 0.0, 0.0, 0.0, 0.0, 0.0, 0.0, 0.0, 0.0, 0.0, 1.0, 0.0, 0.0, 0.0, 0.0, 0.0, 0.0, 0.0, 0.0, 0.0, 0.0, 0.0, 0.0, 0.0, 0.0, 0.0, 0.0, 0.0, 0.0, 0.0, 0.0, 1.0, 0.0, 0.0, 0.0, 0.0, 0.0, 0.0, 0.0, 0.0, 0.0, 0.0, 1.0, 0.0, 0.0, 0.0, 0.0, 0.0, 0.0, 0.0, 0.0, 0.0, 0.0, 0.0, 0.0, 0.0, 0.0, 0.0, 0.0, 0.0, 0.0, 0.0, 0.0, 1.0, 0.0, 0.0, 0.0, 0.0, 0.0, 0.0, 0.0, 0.0, 0.0, 0.0, 1.0, 0.0, 0.0, 0.0, 0.0, 0.0, 0.0, 0.0, 0.0, 0.0, 0.0, 0.0, 0.0, 0.0, 0.0, 0.0, 0.0, 0.0, 0.0, 0.0, 0.0, 1.0, 0.0, 0.0, 0.0, 0.0, 0.0, 0.0, 0.0, 0.0, 0.0, 0.0, 1.0, 0.0, 0.0, 0.0, 0.0, 0.0, 0.0, 0.0, 0.0, 0.0, 0.0, 0.0, 0.0, 0.0, 0.0, 0.0, 0.0, 0.0, 0.0, 0.0, 0.0, 1.0, 0.0, 0.0, 1.0, 1.0, 0.0, 1.0, 1.0, 0.0, 1.0, 1.0, 1.0, 0.0, 1.0, 1.0, 0.0, 1.0, 1.0, 0.0, 1.0, 1.0, 0.0, 0.0, 1.0, 1.0, 0.0, 1.0, 1.0, 0.0, 1.0, 1.0, 2.0, 0.0, 0.0, 1.0, 1.0, 0.0, 0.0, 0.0, 0.0, 0.0, 0.0, 0.0, 0.0, 0.0, 0.0, 0.0, 0.0, 0.0, 0.0, 0.0, 0.0, 0.0, 0.0, 0.0, 0.0, 0.0, 0.0, 0.0, 0.0, 0.0, 0.0, 0.0, 0.0, 0.0, 0.0, 1.0, 1.0, 0.0, 0.0, 0.0, 0.0, 0.0, 0.0, 0.0, 0.0, 0.0, 0.0, 0.0, 0.0, 0.0, 0.0, 0.0, 0.0, 0.0, 0.0, 0.0, 0.0, 0.0, 0.0, 0.0, 0.0, 0.0, 0.0, 0.0, 0.0, 0.0, 0.0, 1.0, 1.0, 0.0, 0.0, 0.0, 0.0, 0.0, 0.0, 0.0, 0.0, 0.0, 0.0, 0.0, 0.0, 0.0, 0.0, 0.0, 0.0, 0.0, 0.0, 0.0, 0.0, 0.0, 0.0, 0.0, 0.0, 0.0, 0.0, 0.0, 0.0, 0.0, 0.0, 1.0, 1.0, 0.0, 0.0, 0.0, 0.0, 0.0, 0.0, 0.0, 0.0, 0.0, 0.0, 0.0, 0.0, 0.0, 0.0, 0.0, 0.0, 0.0, 0.0, 0.0, 0.0, 0.0, 0.0, 0.0, 0.0, 0.0, 0.0, 0.0, 0.0, 0.0, 0.0, 1.0, 1.0, 0.0, 1.0, 1.0, 0.0, 1.0, 1.0, 0.0, 1.0, 1.0, 0.0, 0.0, 1.0, 1.0, 0.0, 1.0, 1.0, 0.0, 1.0, 1.0, 0.0, 0.0, 1.0, 1.0, 0.0, 1.0, 1.0, 0.0, 1.0, 1.0, 0.0, 0.0, 0.0, 1.0, 1.0, 0.0, 0.0, 0.0, 0.0, 0.0, 0.0, 0.0, 0.0, 0.0, 1.0, 0.0, 0.0, 0.0, 0.0, 0.0, 0.0, 0.0, 0.0, 0.0, 0.0, 0.0, 0.0, 0.0, 0.0, 0.0, 0.0, 0.0, 0.0, 0.0, 0.0, 1.0, 1.0, 0.0, 0.0, 0.0, 0.0, 0.0, 0.0, 0.0, 0.0, 0.0, 1.0, 0.0, 0.0, 0.0, 0.0, 0.0, 0.0, 0.0, 0.0, 0.0, 0.0, 0.0, 0.0, 0.0, 0.0, 0.0, 0.0, 0.0, 0.0, 0.0, 0.0, 1.0, 1.0, 0.0, 0.0, 0.0, 0.0, 0.0, 0.0, 0.0, 0.0, 0.0, 1.0, 0.0, 0.0, 0.0, 0.0, 0.0, 0.0, 0.0, 0.0, 0.0, 0.0, 0.0, 0.0, 0.0, 0.0, 0.0, 0.0, 0.0, 0.0, 0.0, 0.0, 1.0, 1.0, 0.0, 0.0, 0.0, 0.0, 0.0, 0.0, 0.0, 0.0, 0.0, 1.0, 0.0, 0.0, 0.0, 0.0, 0.0, 0.0, 0.0, 0.0, 0.0, 0.0, 0.0, 0.0, 0.0, 0.0, 0.0, 0.0, 0.0, 0.0, 0.0, 0.0, 1.0, 1.0, 0.0, 1.0, 1.0, 0.0, 1.0, 1.0, 0.0, 1.0, 1.0, 1.0, 0.0, 1.0, 1.0, 0.0, 1.0, 1.0, 0.0, 1.0, 1.0, 0.0, 0.0, 1.0, 1.0, 0.0, 1.0, 1.0, 0.0, 1.0, 1.0]\n"
     ]
    }
   ],
   "source": [
    "print('Number of solutions found: ' + str(m.SolCount))\n",
    "for sol in range(m.SolCount):\n",
    "    print(sol)\n",
    "    m.Params.SolutionNumber = sol\n",
    "    print(m.PoolObjVal)\n",
    "print('')\n",
    "print('')\n",
    "for sol in range(m.SolCount):\n",
    "    m.Params.SolutionNumber = sol\n",
    "    m.setParam(GRB.Param.SolutionNumber, sol)\n",
    "    values = m.Xn\n",
    "    print(\"solution number\", sol )\n",
    "    print(values)\n"
   ]
  },
  {
   "cell_type": "code",
   "execution_count": 26,
   "id": "a813f9c5",
   "metadata": {
    "scrolled": false
   },
   "outputs": [
    {
     "name": "stdout",
     "output_type": "stream",
     "text": [
      " X[ 0 , 0 , 0 , 0 ] =  1.0\n",
      " \n",
      " X[ 0 , 1 , 3 , 1 ] =  1.0\n",
      " \n",
      " X[ 0 , 2 , 3 , 1 ] =  1.0\n",
      " \n",
      " X[ 0 , 3 , 1 , 0 ] =  1.0\n",
      " \n",
      " X[ 1 , 0 , 0 , 1 ] =  1.0\n",
      " \n",
      " X[ 1 , 2 , 1 , 1 ] =  1.0\n",
      " \n",
      " X[ 1 , 3 , 1 , 1 ] =  1.0\n",
      " \n",
      " X[ 1 , 4 , 2 , 0 ] =  1.0\n",
      " \n",
      " X[ 2 , 0 , 0 , 2 ] =  1.0\n",
      " \n",
      " X[ 2 , 1 , 3 , 2 ] =  1.0\n",
      " \n",
      " X[ 2 , 3 , 2 , 2 ] =  1.0\n",
      " \n",
      " X[ 2 , 4 , 2 , 2 ] =  1.0\n",
      " \n"
     ]
    }
   ],
   "source": [
    "for i in range(I):\n",
    "    for j in range(J):\n",
    "        for p in range(P):\n",
    "            for q in range(Q):\n",
    "                    if X[i,j,p,q].x > 0:\n",
    "                        print(\" X[\",i,\",\",j,\",\",p,\",\",q,\"] = \".format(X[i,j,p,q].x), X[i,j,p,q].x)\n",
    "                        print(\" \")\n"
   ]
  },
  {
   "cell_type": "code",
   "execution_count": null,
   "id": "3c7170bc",
   "metadata": {},
   "outputs": [],
   "source": []
  }
 ],
 "metadata": {
  "kernelspec": {
   "display_name": "Python 3",
   "language": "python",
   "name": "python3"
  },
  "language_info": {
   "codemirror_mode": {
    "name": "ipython",
    "version": 3
   },
   "file_extension": ".py",
   "mimetype": "text/x-python",
   "name": "python",
   "nbconvert_exporter": "python",
   "pygments_lexer": "ipython3",
   "version": "3.10.6 (main, Nov 14 2022, 16:10:14) [GCC 11.3.0]"
  },
  "vscode": {
   "interpreter": {
    "hash": "916dbcbb3f70747c44a77c7bcd40155683ae19c65e1c03b4aa3499c5328201f1"
   }
  }
 },
 "nbformat": 4,
 "nbformat_minor": 5
}
